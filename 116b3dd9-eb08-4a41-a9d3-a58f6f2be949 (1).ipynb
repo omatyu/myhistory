   "source": [
    "# Исследование надежности заемщиков\n"
   ]
  },
  {
   "cell_type": "markdown",
   "id": "c523a307",
   "metadata": {
    "deletable": false,
    "editable": false,
    "id": "827c20bf"
   },
   "source": [
    "Во второй части проекта вы выполните шаги 3 и 4. Их вручную проверит ревьюер.\n",
    "Чтобы вам не пришлось писать код заново для шагов 1 и 2, мы добавили авторские решения в ячейки с кодом. \n",
    "\n"
   ]
  },
  {
   "cell_type": "markdown",
   "id": "ee2968e3",
   "metadata": {
    "deletable": false,
    "editable": false,
    "id": "744d7639"
   },
   "source": [
    "## Откройте таблицу и изучите общую информацию о данных"
   ]
  },
  {
   "cell_type": "markdown",
   "id": "2c5a77f6",
   "metadata": {
    "deletable": false,
    "editable": false,
    "id": "e7a14c31"
   },
   "source": [
    "**Задание 1. Импортируйте библиотеку pandas. Считайте данные из csv-файла в датафрейм и сохраните в переменную `data`. Путь к файлу:**\n",
    "\n",
    "`/datasets/data.csv`"
   ]
  },
  {
   "cell_type": "code",
   "execution_count": 1,
   "id": "6e923f5a",
   "metadata": {
    "deletable": false,
    "id": "7bcf75c9"
   },
   "outputs": [],
   "source": [
    "import pandas as pd\n",
    "\n",
    "try:\n",
    "    data = pd.read_csv('/datasets/data.csv')\n",
    "except:\n",
    "    data = pd.read_csv('https://code.s3.yandex.net/datasets/data.csv')"
   ]
  },
  {
   "cell_type": "markdown",
   "id": "d269a5ae",
   "metadata": {
    "deletable": false,
    "editable": false,
    "id": "b8038fe3"
   },
   "source": [
    "**Задание 2. Выведите первые 20 строчек датафрейма `data` на экран.**"
   ]
  },
  {
   "cell_type": "code",
   "execution_count": 2,
   "id": "a06be5ba",
   "metadata": {
    "deletable": false,
    "id": "2a7cab99",
    "outputId": "1a8f3ef2-d323-4ec2-ddf7-89670b5944c4"
   },
   "outputs": [
    {
     "data": {
      "text/html": [
       "<div>\n",
       "<style scoped>\n",
       "    .dataframe tbody tr th:only-of-type {\n",
       "        vertical-align: middle;\n",
       "    }\n",
       "\n",
       "    .dataframe tbody tr th {\n",
       "        vertical-align: top;\n",
       "    }\n",
       "\n",
       "    .dataframe thead th {\n",
       "        text-align: right;\n",
       "    }\n",
       "</style>\n",
       "<table border=\"1\" class=\"dataframe\">\n",
       "  <thead>\n",
       "    <tr style=\"text-align: right;\">\n",
       "      <th></th>\n",
       "      <th>children</th>\n",
       "      <th>days_employed</th>\n",
       "      <th>dob_years</th>\n",
       "      <th>education</th>\n",
       "      <th>education_id</th>\n",
       "      <th>family_status</th>\n",
       "      <th>family_status_id</th>\n",
       "      <th>gender</th>\n",
       "      <th>income_type</th>\n",
       "      <th>debt</th>\n",
       "      <th>total_income</th>\n",
       "      <th>purpose</th>\n",
       "    </tr>\n",
       "  </thead>\n",
       "  <tbody>\n",
       "    <tr>\n",
       "      <th>0</th>\n",
       "      <td>1</td>\n",
       "      <td>-8437.673028</td>\n",
       "      <td>42</td>\n",
       "      <td>высшее</td>\n",
       "      <td>0</td>\n",
       "      <td>женат / замужем</td>\n",
       "      <td>0</td>\n",
       "      <td>F</td>\n",
       "      <td>сотрудник</td>\n",
       "      <td>0</td>\n",
       "      <td>253875.639453</td>\n",
       "      <td>покупка жилья</td>\n",
       "    </tr>\n",
       "    <tr>\n",
       "      <th>1</th>\n",
       "      <td>1</td>\n",
       "      <td>-4024.803754</td>\n",
       "      <td>36</td>\n",
       "      <td>среднее</td>\n",
       "      <td>1</td>\n",
       "      <td>женат / замужем</td>\n",
       "      <td>0</td>\n",
       "      <td>F</td>\n",
       "      <td>сотрудник</td>\n",
       "      <td>0</td>\n",
       "      <td>112080.014102</td>\n",
       "      <td>приобретение автомобиля</td>\n",
       "    </tr>\n",
       "    <tr>\n",
       "      <th>2</th>\n",
       "      <td>0</td>\n",
       "      <td>-5623.422610</td>\n",
       "      <td>33</td>\n",
       "      <td>Среднее</td>\n",
       "      <td>1</td>\n",
       "      <td>женат / замужем</td>\n",
       "      <td>0</td>\n",
       "      <td>M</td>\n",
       "      <td>сотрудник</td>\n",
       "      <td>0</td>\n",
       "      <td>145885.952297</td>\n",
       "      <td>покупка жилья</td>\n",
       "    </tr>\n",
       "    <tr>\n",
       "      <th>3</th>\n",
       "      <td>3</td>\n",
       "      <td>-4124.747207</td>\n",
       "      <td>32</td>\n",
       "      <td>среднее</td>\n",
       "      <td>1</td>\n",
       "      <td>женат / замужем</td>\n",
       "      <td>0</td>\n",
       "      <td>M</td>\n",
       "      <td>сотрудник</td>\n",
       "      <td>0</td>\n",
       "      <td>267628.550329</td>\n",
       "      <td>дополнительное образование</td>\n",
       "    </tr>\n",
       "    <tr>\n",
       "      <th>4</th>\n",
       "      <td>0</td>\n",
       "      <td>340266.072047</td>\n",
       "      <td>53</td>\n",
       "      <td>среднее</td>\n",
       "      <td>1</td>\n",
       "      <td>гражданский брак</td>\n",
       "      <td>1</td>\n",
       "      <td>F</td>\n",
       "      <td>пенсионер</td>\n",
       "      <td>0</td>\n",
       "      <td>158616.077870</td>\n",
       "      <td>сыграть свадьбу</td>\n",
       "    </tr>\n",
       "    <tr>\n",
       "      <th>5</th>\n",
       "      <td>0</td>\n",
       "      <td>-926.185831</td>\n",
       "      <td>27</td>\n",
       "      <td>высшее</td>\n",
       "      <td>0</td>\n",
       "      <td>гражданский брак</td>\n",
       "      <td>1</td>\n",
       "      <td>M</td>\n",
       "      <td>компаньон</td>\n",
       "      <td>0</td>\n",
       "      <td>255763.565419</td>\n",
       "      <td>покупка жилья</td>\n",
       "    </tr>\n",
       "    <tr>\n",
       "      <th>6</th>\n",
       "      <td>0</td>\n",
       "      <td>-2879.202052</td>\n",
       "      <td>43</td>\n",
       "      <td>высшее</td>\n",
       "      <td>0</td>\n",
       "      <td>женат / замужем</td>\n",
       "      <td>0</td>\n",
       "      <td>F</td>\n",
       "      <td>компаньон</td>\n",
       "      <td>0</td>\n",
       "      <td>240525.971920</td>\n",
       "      <td>операции с жильем</td>\n",
       "    </tr>\n",
       "    <tr>\n",
       "      <th>7</th>\n",
       "      <td>0</td>\n",
       "      <td>-152.779569</td>\n",
       "      <td>50</td>\n",
       "      <td>СРЕДНЕЕ</td>\n",
       "      <td>1</td>\n",
       "      <td>женат / замужем</td>\n",
       "      <td>0</td>\n",
       "      <td>M</td>\n",
       "      <td>сотрудник</td>\n",
       "      <td>0</td>\n",
       "      <td>135823.934197</td>\n",
       "      <td>образование</td>\n",
       "    </tr>\n",
       "    <tr>\n",
       "      <th>8</th>\n",
       "      <td>2</td>\n",
       "      <td>-6929.865299</td>\n",
       "      <td>35</td>\n",
       "      <td>ВЫСШЕЕ</td>\n",
       "      <td>0</td>\n",
       "      <td>гражданский брак</td>\n",
       "      <td>1</td>\n",
       "      <td>F</td>\n",
       "      <td>сотрудник</td>\n",
       "      <td>0</td>\n",
       "      <td>95856.832424</td>\n",
       "      <td>на проведение свадьбы</td>\n",
       "    </tr>\n",
       "    <tr>\n",
       "      <th>9</th>\n",
       "      <td>0</td>\n",
       "      <td>-2188.756445</td>\n",
       "      <td>41</td>\n",
       "      <td>среднее</td>\n",
       "      <td>1</td>\n",
       "      <td>женат / замужем</td>\n",
       "      <td>0</td>\n",
       "      <td>M</td>\n",
       "      <td>сотрудник</td>\n",
       "      <td>0</td>\n",
       "      <td>144425.938277</td>\n",
       "      <td>покупка жилья для семьи</td>\n",
       "    </tr>\n",
       "    <tr>\n",
       "      <th>10</th>\n",
       "      <td>2</td>\n",
       "      <td>-4171.483647</td>\n",
       "      <td>36</td>\n",
       "      <td>высшее</td>\n",
       "      <td>0</td>\n",
       "      <td>женат / замужем</td>\n",
       "      <td>0</td>\n",
       "      <td>M</td>\n",
       "      <td>компаньон</td>\n",
       "      <td>0</td>\n",
       "      <td>113943.491460</td>\n",
       "      <td>покупка недвижимости</td>\n",
       "    </tr>\n",
       "    <tr>\n",
       "      <th>11</th>\n",
       "      <td>0</td>\n",
       "      <td>-792.701887</td>\n",
       "      <td>40</td>\n",
       "      <td>среднее</td>\n",
       "      <td>1</td>\n",
       "      <td>женат / замужем</td>\n",
       "      <td>0</td>\n",
       "      <td>F</td>\n",
       "      <td>сотрудник</td>\n",
       "      <td>0</td>\n",
       "      <td>77069.234271</td>\n",
       "      <td>покупка коммерческой недвижимости</td>\n",
       "    </tr>\n",
       "    <tr>\n",
       "      <th>12</th>\n",
       "      <td>0</td>\n",
       "      <td>NaN</td>\n",
       "      <td>65</td>\n",
       "      <td>среднее</td>\n",
       "      <td>1</td>\n",
       "      <td>гражданский брак</td>\n",
       "      <td>1</td>\n",
       "      <td>M</td>\n",
       "      <td>пенсионер</td>\n",
       "      <td>0</td>\n",
       "      <td>NaN</td>\n",
       "      <td>сыграть свадьбу</td>\n",
       "    </tr>\n",
       "    <tr>\n",
       "      <th>13</th>\n",
       "      <td>0</td>\n",
       "      <td>-1846.641941</td>\n",
       "      <td>54</td>\n",
       "      <td>неоконченное высшее</td>\n",
       "      <td>2</td>\n",
       "      <td>женат / замужем</td>\n",
       "      <td>0</td>\n",
       "      <td>F</td>\n",
       "      <td>сотрудник</td>\n",
       "      <td>0</td>\n",
       "      <td>130458.228857</td>\n",
       "      <td>приобретение автомобиля</td>\n",
       "    </tr>\n",
       "    <tr>\n",
       "      <th>14</th>\n",
       "      <td>0</td>\n",
       "      <td>-1844.956182</td>\n",
       "      <td>56</td>\n",
       "      <td>высшее</td>\n",
       "      <td>0</td>\n",
       "      <td>гражданский брак</td>\n",
       "      <td>1</td>\n",
       "      <td>F</td>\n",
       "      <td>компаньон</td>\n",
       "      <td>1</td>\n",
       "      <td>165127.911772</td>\n",
       "      <td>покупка жилой недвижимости</td>\n",
       "    </tr>\n",
       "    <tr>\n",
       "      <th>15</th>\n",
       "      <td>1</td>\n",
       "      <td>-972.364419</td>\n",
       "      <td>26</td>\n",
       "      <td>среднее</td>\n",
       "      <td>1</td>\n",
       "      <td>женат / замужем</td>\n",
       "      <td>0</td>\n",
       "      <td>F</td>\n",
       "      <td>сотрудник</td>\n",
       "      <td>0</td>\n",
       "      <td>116820.904450</td>\n",
       "      <td>строительство собственной недвижимости</td>\n",
       "    </tr>\n",
       "    <tr>\n",
       "      <th>16</th>\n",
       "      <td>0</td>\n",
       "      <td>-1719.934226</td>\n",
       "      <td>35</td>\n",
       "      <td>среднее</td>\n",
       "      <td>1</td>\n",
       "      <td>женат / замужем</td>\n",
       "      <td>0</td>\n",
       "      <td>F</td>\n",
       "      <td>сотрудник</td>\n",
       "      <td>0</td>\n",
       "      <td>289202.704229</td>\n",
       "      <td>недвижимость</td>\n",
       "    </tr>\n",
       "    <tr>\n",
       "      <th>17</th>\n",
       "      <td>0</td>\n",
       "      <td>-2369.999720</td>\n",
       "      <td>33</td>\n",
       "      <td>высшее</td>\n",
       "      <td>0</td>\n",
       "      <td>гражданский брак</td>\n",
       "      <td>1</td>\n",
       "      <td>M</td>\n",
       "      <td>сотрудник</td>\n",
       "      <td>0</td>\n",
       "      <td>90410.586745</td>\n",
       "      <td>строительство недвижимости</td>\n",
       "    </tr>\n",
       "    <tr>\n",
       "      <th>18</th>\n",
       "      <td>0</td>\n",
       "      <td>400281.136913</td>\n",
       "      <td>53</td>\n",
       "      <td>среднее</td>\n",
       "      <td>1</td>\n",
       "      <td>вдовец / вдова</td>\n",
       "      <td>2</td>\n",
       "      <td>F</td>\n",
       "      <td>пенсионер</td>\n",
       "      <td>0</td>\n",
       "      <td>56823.777243</td>\n",
       "      <td>на покупку подержанного автомобиля</td>\n",
       "    </tr>\n",
       "    <tr>\n",
       "      <th>19</th>\n",
       "      <td>0</td>\n",
       "      <td>-10038.818549</td>\n",
       "      <td>48</td>\n",
       "      <td>СРЕДНЕЕ</td>\n",
       "      <td>1</td>\n",
       "      <td>в разводе</td>\n",
       "      <td>3</td>\n",
       "      <td>F</td>\n",
       "      <td>сотрудник</td>\n",
       "      <td>0</td>\n",
       "      <td>242831.107982</td>\n",
       "      <td>на покупку своего автомобиля</td>\n",
       "    </tr>\n",
       "  </tbody>\n",
       "</table>\n",
       "</div>"
      ],
      "text/plain": [
       "    children  days_employed  dob_years            education  education_id  \\\n",
       "0          1   -8437.673028         42               высшее             0   \n",
       "1          1   -4024.803754         36              среднее             1   \n",
       "2          0   -5623.422610         33              Среднее             1   \n",
       "3          3   -4124.747207         32              среднее             1   \n",
       "4          0  340266.072047         53              среднее             1   \n",
       "5          0    -926.185831         27               высшее             0   \n",
       "6          0   -2879.202052         43               высшее             0   \n",
       "7          0    -152.779569         50              СРЕДНЕЕ             1   \n",
       "8          2   -6929.865299         35               ВЫСШЕЕ             0   \n",
       "9          0   -2188.756445         41              среднее             1   \n",
       "10         2   -4171.483647         36               высшее             0   \n",
       "11         0    -792.701887         40              среднее             1   \n",
       "12         0            NaN         65              среднее             1   \n",
       "13         0   -1846.641941         54  неоконченное высшее             2   \n",
       "14         0   -1844.956182         56               высшее             0   \n",
       "15         1    -972.364419         26              среднее             1   \n",
       "16         0   -1719.934226         35              среднее             1   \n",
       "17         0   -2369.999720         33               высшее             0   \n",
       "18         0  400281.136913         53              среднее             1   \n",
       "19         0  -10038.818549         48              СРЕДНЕЕ             1   \n",
       "\n",
       "       family_status  family_status_id gender income_type  debt  \\\n",
       "0    женат / замужем                 0      F   сотрудник     0   \n",
       "1    женат / замужем                 0      F   сотрудник     0   \n",
       "2    женат / замужем                 0      M   сотрудник     0   \n",
       "3    женат / замужем                 0      M   сотрудник     0   \n",
       "4   гражданский брак                 1      F   пенсионер     0   \n",
       "5   гражданский брак                 1      M   компаньон     0   \n",
       "6    женат / замужем                 0      F   компаньон     0   \n",
       "7    женат / замужем                 0      M   сотрудник     0   \n",
       "8   гражданский брак                 1      F   сотрудник     0   \n",
       "9    женат / замужем                 0      M   сотрудник     0   \n",
       "10   женат / замужем                 0      M   компаньон     0   \n",
       "11   женат / замужем                 0      F   сотрудник     0   \n",
       "12  гражданский брак                 1      M   пенсионер     0   \n",
       "13   женат / замужем                 0      F   сотрудник     0   \n",
       "14  гражданский брак                 1      F   компаньон     1   \n",
       "15   женат / замужем                 0      F   сотрудник     0   \n",
       "16   женат / замужем                 0      F   сотрудник     0   \n",
       "17  гражданский брак                 1      M   сотрудник     0   \n",
       "18    вдовец / вдова                 2      F   пенсионер     0   \n",
       "19         в разводе                 3      F   сотрудник     0   \n",
       "\n",
       "     total_income                                 purpose  \n",
       "0   253875.639453                           покупка жилья  \n",
       "1   112080.014102                 приобретение автомобиля  \n",
       "2   145885.952297                           покупка жилья  \n",
       "3   267628.550329              дополнительное образование  \n",
       "4   158616.077870                         сыграть свадьбу  \n",
       "5   255763.565419                           покупка жилья  \n",
       "6   240525.971920                       операции с жильем  \n",
       "7   135823.934197                             образование  \n",
       "8    95856.832424                   на проведение свадьбы  \n",
       "9   144425.938277                 покупка жилья для семьи  \n",
       "10  113943.491460                    покупка недвижимости  \n",
       "11   77069.234271       покупка коммерческой недвижимости  \n",
       "12            NaN                         сыграть свадьбу  \n",
       "13  130458.228857                 приобретение автомобиля  \n",
       "14  165127.911772              покупка жилой недвижимости  \n",
       "15  116820.904450  строительство собственной недвижимости  \n",
       "16  289202.704229                            недвижимость  \n",
       "17   90410.586745              строительство недвижимости  \n",
       "18   56823.777243      на покупку подержанного автомобиля  \n",
       "19  242831.107982            на покупку своего автомобиля  "
      ]
     },
     "execution_count": 2,
     "metadata": {},
     "output_type": "execute_result"
    }
   ],
   "source": [
    "data.head(20)"
   ]
  },
  {
   "cell_type": "markdown",
   "id": "cd92fb25",
   "metadata": {
    "deletable": false,
    "editable": false,
    "id": "1c12e233"
   },
   "source": [
    "**Задание 3. Выведите основную информацию о датафрейме с помощью метода `info()`.**"
   ]
  },
  {
   "cell_type": "code",
   "execution_count": 3,
   "id": "f12e42d6",
   "metadata": {
    "deletable": false,
    "id": "2b757bca",
    "outputId": "15376089-8dad-46c9-b520-c05248d43158"
   },
   "outputs": [
    {
     "name": "stdout",
     "output_type": "stream",
     "text": [
      "<class 'pandas.core.frame.DataFrame'>\n",
      "RangeIndex: 21525 entries, 0 to 21524\n",
      "Data columns (total 12 columns):\n",
      " #   Column            Non-Null Count  Dtype  \n",
      "---  ------            --------------  -----  \n",
      " 0   children          21525 non-null  int64  \n",
      " 1   days_employed     19351 non-null  float64\n",
      " 2   dob_years         21525 non-null  int64  \n",
      " 3   education         21525 non-null  object \n",
      " 4   education_id      21525 non-null  int64  \n",
      " 5   family_status     21525 non-null  object \n",
      " 6   family_status_id  21525 non-null  int64  \n",
      " 7   gender            21525 non-null  object \n",
      " 8   income_type       21525 non-null  object \n",
      " 9   debt              21525 non-null  int64  \n",
      " 10  total_income      19351 non-null  float64\n",
      " 11  purpose           21525 non-null  object \n",
      "dtypes: float64(2), int64(5), object(5)\n",
      "memory usage: 2.0+ MB\n"
     ]
    }
   ],
   "source": [
    "data.info()"
   ]
  },
  {
   "cell_type": "markdown",
   "id": "1ae5f000",
   "metadata": {
    "deletable": false,
    "editable": false,
    "id": "333ec665"
   },
   "source": [
    "## Предобработка данных"
   ]
  },
  {
   "cell_type": "markdown",
   "id": "1b17fd88",
   "metadata": {
    "deletable": false,
    "editable": false,
    "id": "02d92d53"
   },
   "source": [
    "### Удаление пропусков"
   ]
  },
  {
   "cell_type": "markdown",
   "id": "5f07bcea",
   "metadata": {
    "deletable": false,
    "editable": false,
    "id": "cd84967c"
   },
   "source": [
    "**Задание 4. Выведите количество пропущенных значений для каждого столбца. Используйте комбинацию двух методов.**"
   ]
  },
  {
   "cell_type": "code",
   "execution_count": 4,
   "id": "cdb3bbf0",
   "metadata": {
    "deletable": false,
    "id": "7f9b2309",
    "outputId": "81f4d817-781c-465c-ed15-91ce4446810d"
   },
   "outputs": [
    {
     "data": {
      "text/plain": [
       "children               0\n",
       "days_employed       2174\n",
       "dob_years              0\n",
       "education              0\n",
       "education_id           0\n",
       "family_status          0\n",
       "family_status_id       0\n",
       "gender                 0\n",
       "income_type            0\n",
       "debt                   0\n",
       "total_income        2174\n",
       "purpose                0\n",
       "dtype: int64"
      ]
     },
     "execution_count": 4,
     "metadata": {},
     "output_type": "execute_result"
    }
   ],
   "source": [
    "data.isna().sum()"
   ]
  },
  {
   "cell_type": "markdown",
   "id": "232618bd",
   "metadata": {
    "deletable": false,
    "editable": false,
    "id": "db86e27b"
   },
   "source": [
    "**Задание 5. В двух столбцах есть пропущенные значения. Один из них — `days_employed`. Пропуски в этом столбце вы обработаете на следующем этапе. Другой столбец с пропущенными значениями — `total_income` — хранит данные о доходах. На сумму дохода сильнее всего влияет тип занятости, поэтому заполнить пропуски в этом столбце нужно медианным значением по каждому типу из столбца `income_type`. Например, у человека с типом занятости `сотрудник` пропуск в столбце `total_income` должен быть заполнен медианным доходом среди всех записей с тем же типом.**"
   ]
  },
  {
   "cell_type": "code",
   "execution_count": 5,
   "id": "efcba791",
   "metadata": {
    "deletable": false,
    "id": "42006a93"
   },
   "outputs": [],
   "source": [
    "for t in data['income_type'].unique():\n",
    "    data.loc[(data['income_type'] == t) & (data['total_income'].isna()), 'total_income'] = \\\n",
    "    data.loc[(data['income_type'] == t), 'total_income'].median()"
   ]
  },
  {
   "cell_type": "markdown",
   "id": "0301bbce",
   "metadata": {
    "deletable": false,
    "editable": false,
    "id": "89da5ece"
   },
   "source": [
    "### Обработка аномальных значений"
   ]
  },
  {
   "cell_type": "markdown",
   "id": "d00c0989",
   "metadata": {
    "deletable": false,
    "editable": false,
    "id": "57964554"
   },
   "source": [
    "**Задание 6. В данных могут встречаться артефакты (аномалии) — значения, которые не отражают действительность и появились по какой-то ошибке. таким артефактом будет отрицательное количество дней трудового стажа в столбце `days_employed`. Для реальных данных это нормально. Обработайте значения в этом столбце: замените все отрицательные значения положительными с помощью метода `abs()`.**"
   ]
  },
  {
   "cell_type": "code",
   "execution_count": 6,
   "id": "bb8ce318",
   "metadata": {
    "deletable": false,
    "id": "f6f055bf"
   },
   "outputs": [],
   "source": [
    "data['days_employed'] = data['days_employed'].abs()"
   ]
  },
  {
   "cell_type": "markdown",
   "id": "9b027cc4",
   "metadata": {
    "deletable": false,
    "editable": false,
    "id": "6107dd2f"
   },
   "source": [
    "**Задание 7. Для каждого типа занятости выведите медианное значение трудового стажа `days_employed` в днях.**"
   ]
  },
  {
   "cell_type": "code",
   "execution_count": 7,
   "id": "b50c998b",
   "metadata": {
    "deletable": false,
    "id": "85a5faf6",
    "outputId": "801ef80e-522b-4668-f34e-565af7432bcf"
   },
   "outputs": [
    {
     "data": {
      "text/plain": [
       "income_type\n",
       "безработный        366413.652744\n",
       "в декрете            3296.759962\n",
       "госслужащий          2689.368353\n",
       "компаньон            1547.382223\n",
       "пенсионер          365213.306266\n",
       "предприниматель       520.848083\n",
       "сотрудник            1574.202821\n",
       "студент               578.751554\n",
       "Name: days_employed, dtype: float64"
      ]
     },
     "execution_count": 7,
     "metadata": {},
     "output_type": "execute_result"
    }
   ],
   "source": [
    "data.groupby('income_type')['days_employed'].agg('median')"
   ]
  },
  {
   "cell_type": "markdown",
   "id": "0b1a238f",
   "metadata": {
    "deletable": false,
    "editable": false,
    "id": "38d1a030"
   },
   "source": [
    "У двух типов (безработные и пенсионеры) получатся аномально большие значения. Исправить такие значения сложно, поэтому оставьте их как есть. Тем более этот столбец не понадобится вам для исследования."
   ]
  },
  {
   "cell_type": "markdown",
   "id": "16bf34d5",
   "metadata": {
    "deletable": false,
    "editable": false,
    "id": "d8a9f147"
   },
   "source": [
    "**Задание 8. Выведите перечень уникальных значений столбца `children`.**"
   ]
  },
  {
   "cell_type": "code",
   "execution_count": 8,
   "id": "22b0625c",
   "metadata": {
    "deletable": false,
    "id": "ef5056eb",
    "outputId": "6975b15c-7f95-4697-d16d-a0c79b657b03"
   },
   "outputs": [
    {
     "data": {
      "text/plain": [
       "array([ 1,  0,  3,  2, -1,  4, 20,  5])"
      ]
     },
     "execution_count": 8,
     "metadata": {},
     "output_type": "execute_result"
    }
   ],
   "source": [
    "data['children'].unique()"
   ]
  },
  {
   "cell_type": "markdown",
   "id": "98271aac",
   "metadata": {
    "deletable": false,
    "editable": false,
    "id": "40b9ebf2"
   },
   "source": [
    "**Задание 9. В столбце `children` есть два аномальных значения. Удалите строки, в которых встречаются такие аномальные значения из датафрейма `data`.**"
   ]
  },
  {
   "cell_type": "code",
   "execution_count": 9,
   "id": "65738048",
   "metadata": {
    "deletable": false,
    "id": "3ff9801d"
   },
   "outputs": [],
   "source": [
    "data = data[(data['children'] != -1) & (data['children'] != 20)]"
   ]
  },
  {
   "cell_type": "markdown",
   "id": "16771248",
   "metadata": {
    "deletable": false,
    "editable": false,
    "id": "bbc4d0ce"
   },
   "source": [
    "**Задание 10. Ещё раз выведите перечень уникальных значений столбца `children`, чтобы убедиться, что артефакты удалены.**"
   ]
  },
  {
   "cell_type": "code",
   "execution_count": 10,
   "id": "34f2c294",
   "metadata": {
    "deletable": false,
    "id": "ad4fa8b7",
    "outputId": "b2097101-d49d-44d9-901b-32a65c9463d1"
   },
   "outputs": [
    {
     "data": {
      "text/plain": [
       "array([1, 0, 3, 2, 4, 5])"
      ]
     },
     "execution_count": 10,
     "metadata": {},
     "output_type": "execute_result"
    }
   ],
   "source": [
    "data['children'].unique()"
   ]
  },
  {
   "cell_type": "markdown",
   "id": "60c95f9e",
   "metadata": {
    "deletable": false,
    "editable": false,
    "id": "75440b63"
   },
   "source": [
    "### Удаление пропусков (продолжение)"
   ]
  },
  {
   "cell_type": "markdown",
   "id": "9bcada38",
   "metadata": {
    "deletable": false,
    "editable": false,
    "id": "f4ea573f"
   },
   "source": [
    "**Задание 11. Заполните пропуски в столбце `days_employed` медианными значениями по каждого типа занятости `income_type`.**"
   ]
  },
  {
   "cell_type": "code",
   "execution_count": 11,
   "id": "d9eb1b34",
   "metadata": {
    "deletable": false,
    "id": "af6b1a7e"
   },
   "outputs": [],
   "source": [
    "for t in data['income_type'].unique():\n",
    "    data.loc[(data['income_type'] == t) & (data['days_employed'].isna()), 'days_employed'] = \\\n",
    "    data.loc[(data['income_type'] == t), 'days_employed'].median()"
   ]
  },
  {
   "cell_type": "markdown",
   "id": "e218a4e5",
   "metadata": {
    "deletable": false,
    "editable": false,
    "id": "2753f40d"
   },
   "source": [
    "**Задание 12. Убедитесь, что все пропуски заполнены. Проверьте себя и ещё раз выведите количество пропущенных значений для каждого столбца с помощью двух методов.**"
   ]
  },
  {
   "cell_type": "code",
   "execution_count": 12,
   "id": "37f02b71",
   "metadata": {
    "deletable": false,
    "id": "55f78bc2",
    "outputId": "8da1e4e1-358e-4e87-98c9-f261bce0a7b2"
   },
   "outputs": [
    {
     "data": {
      "text/plain": [
       "children            0\n",
       "days_employed       0\n",
       "dob_years           0\n",
       "education           0\n",
       "education_id        0\n",
       "family_status       0\n",
       "family_status_id    0\n",
       "gender              0\n",
       "income_type         0\n",
       "debt                0\n",
       "total_income        0\n",
       "purpose             0\n",
       "dtype: int64"
      ]
     },
     "execution_count": 12,
     "metadata": {},
     "output_type": "execute_result"
    }
   ],
   "source": [
    "data.isna().sum()"
   ]
  },
  {
   "cell_type": "markdown",
   "id": "e2d8c123",
   "metadata": {
    "deletable": false,
    "editable": false,
    "id": "ddc81e43"
   },
   "source": [
    "### Изменение типов данных"
   ]
  },
  {
   "cell_type": "markdown",
   "id": "9184a6b9",
   "metadata": {
    "deletable": false,
    "editable": false,
    "id": "42d19d24"
   },
   "source": [
    "**Задание 13. Замените вещественный тип данных в столбце `total_income` на целочисленный с помощью метода `astype()`.**"
   ]
  },
  {
   "cell_type": "code",
   "execution_count": 13,
   "id": "da202814",
   "metadata": {
    "deletable": false,
    "id": "920b65ad"
   },
   "outputs": [],
   "source": [
    "data['total_income'] = data['total_income'].astype(int)"
   ]
  },
  {
   "cell_type": "markdown",
   "id": "7456e356",
   "metadata": {
    "deletable": false,
    "editable": false,
    "id": "80c420ba"
   },
   "source": [
    "### Обработка дубликатов"
   ]
  },
  {
   "cell_type": "markdown",
   "id": "33e66fa5",
   "metadata": {
    "deletable": false,
    "editable": false
   },
   "source": [
    "**Задание 14. Обработайте неявные дубликаты в столбце `education`. В этом столбце есть одни и те же значения, но записанные по-разному: с использованием заглавных и строчных букв. Приведите их к нижнему регистру. Проверьте остальные столбцы.**"
   ]
  },
  {
   "cell_type": "code",
   "execution_count": 14,
   "id": "7773a945",
   "metadata": {
    "deletable": false
   },
   "outputs": [],
   "source": [
    "data['education'] = data['education'].str.lower()"
   ]
  },
  {
   "cell_type": "markdown",
   "id": "a8c9e8c6",
   "metadata": {
    "deletable": false,
    "editable": false,
    "id": "dc587695"
   },
   "source": [
    "**Задание 15. Выведите на экран количество строк-дубликатов в данных. Если такие строки присутствуют, удалите их.**"
   ]
  },
  {
   "cell_type": "code",
   "execution_count": 15,
   "id": "2abf51d2",
   "metadata": {
    "deletable": false,
    "id": "3ee445e4",
    "outputId": "9684deba-1934-42d1-99e1-cda61740f822"
   },
   "outputs": [
    {
     "data": {
      "text/plain": [
       "71"
      ]
     },
     "execution_count": 15,
     "metadata": {},
     "output_type": "execute_result"
    }
   ],
   "source": [
    "data.duplicated().sum()"
   ]
  },
  {
   "cell_type": "code",
   "execution_count": 16,
   "id": "4dec1912",
   "metadata": {
    "deletable": false,
    "id": "8575fe05"
   },
   "outputs": [],
   "source": [
    "data = data.drop_duplicates()"
   ]
  },
  {
   "cell_type": "markdown",
   "id": "adca7414",
   "metadata": {
    "deletable": false,
    "editable": false,
    "id": "9904cf55"
   },
   "source": [
    "### Категоризация данных"
   ]
  },
  {
   "cell_type": "markdown",
   "id": "d0259a79",
   "metadata": {
    "deletable": false,
    "editable": false,
    "id": "72fcc8a2"
   },
   "source": [
    "**Задание 16. На основании диапазонов, указанных ниже, создайте в датафрейме `data` столбец `total_income_category` с категориями:**\n",
    "\n",
    "- 0–30000 — `'E'`;\n",
    "- 30001–50000 — `'D'`;\n",
    "- 50001–200000 — `'C'`;\n",
    "- 200001–1000000 — `'B'`;\n",
    "- 1000001 и выше — `'A'`.\n",
    "\n",
    "\n",
    "**Например, кредитополучателю с доходом 25000 нужно назначить категорию `'E'`, а клиенту, получающему 235000, — `'B'`. Используйте собственную функцию с именем `categorize_income()` и метод `apply()`.**"
   ]
  },
  {
   "cell_type": "code",
   "execution_count": 17,
   "id": "b0df7f73",
   "metadata": {
    "deletable": false,
    "id": "e1771346"
   },
   "outputs": [],
   "source": [
    "def categorize_income(income):\n",
    "    try:\n",
    "        if 0 <= income <= 30000:\n",
    "            return 'E'\n",
    "        elif 30001 <= income <= 50000:\n",
    "            return 'D'\n",
    "        elif 50001 <= income <= 200000:\n",
    "            return 'C'\n",
    "        elif 200001 <= income <= 1000000:\n",
    "            return 'B'\n",
    "        elif income >= 1000001:\n",
    "            return 'A'\n",
    "    except:\n",
    "        pass"
   ]
  },
  {
   "cell_type": "code",
   "execution_count": 18,
   "id": "76296fbf",
   "metadata": {
    "deletable": false,
    "id": "d5f3586d"
   },
   "outputs": [],
   "source": [
    "data['total_income_category'] = data['total_income'].apply(categorize_income)\n"
   ]
  },
  {
   "cell_type": "markdown",
   "id": "9bb97494",
   "metadata": {
    "deletable": false,
    "editable": false,
    "id": "dde49b5c"
   },
   "source": [
    "**Задание 17. Выведите на экран перечень уникальных целей взятия кредита из столбца `purpose`.**"
   ]
  },
  {
   "cell_type": "code",
   "execution_count": 19,
   "id": "3d9fcf89",
   "metadata": {
    "deletable": false,
    "id": "f67ce9b3",
    "outputId": "673c12d9-7d7e-4ae0-9812-c622c89dd244"
   },
   "outputs": [
    {
     "data": {
      "text/plain": [
       "array(['покупка жилья', 'приобретение автомобиля',\n",
       "       'дополнительное образование', 'сыграть свадьбу',\n",
       "       'операции с жильем', 'образование', 'на проведение свадьбы',\n",
       "       'покупка жилья для семьи', 'покупка недвижимости',\n",
       "       'покупка коммерческой недвижимости', 'покупка жилой недвижимости',\n",
       "       'строительство собственной недвижимости', 'недвижимость',\n",
       "       'строительство недвижимости', 'на покупку подержанного автомобиля',\n",
       "       'на покупку своего автомобиля',\n",
       "       'операции с коммерческой недвижимостью',\n",
       "       'строительство жилой недвижимости', 'жилье',\n",
       "       'операции со своей недвижимостью', 'автомобили',\n",
       "       'заняться образованием', 'сделка с подержанным автомобилем',\n",
       "       'получение образования', 'автомобиль', 'свадьба',\n",
       "       'получение дополнительного образования', 'покупка своего жилья',\n",
       "       'операции с недвижимостью', 'получение высшего образования',\n",
       "       'свой автомобиль', 'сделка с автомобилем',\n",
       "       'профильное образование', 'высшее образование',\n",
       "       'покупка жилья для сдачи', 'на покупку автомобиля', 'ремонт жилью',\n",
       "       'заняться высшим образованием'], dtype=object)"
      ]
     },
     "execution_count": 19,
     "metadata": {},
     "output_type": "execute_result"
    }
   ],
   "source": [
    "data['purpose'].unique()"
   ]
  },
  {
   "cell_type": "markdown",
   "id": "d2bb7757",
   "metadata": {
    "deletable": false,
    "editable": false,
    "id": "85d0aef0"
   },
   "source": [
    "**Задание 18. Создайте функцию, которая на основании данных из столбца `purpose` сформирует новый столбец `purpose_category`, в который войдут следующие категории:**\n",
    "\n",
    "- `'операции с автомобилем'`,\n",
    "- `'операции с недвижимостью'`,\n",
    "- `'проведение свадьбы'`,\n",
    "- `'получение образования'`.\n",
    "\n",
    "**Например, если в столбце `purpose` находится подстрока `'на покупку автомобиля'`, то в столбце `purpose_category` должна появиться строка `'операции с автомобилем'`.**\n",
    "\n",
    "**Используйте собственную функцию с именем `categorize_purpose()` и метод `apply()`. Изучите данные в столбце `purpose` и определите, какие подстроки помогут вам правильно определить категорию.**"
   ]
  },
  {
   "cell_type": "code",
   "execution_count": 20,
   "id": "cb9679fa",
   "metadata": {
    "deletable": false,
    "id": "e149fab4"
   },
   "outputs": [],
   "source": [
    "def categorize_purpose(row):\n",
    "    try:\n",
    "        if 'автом' in row:\n",
    "            return 'операции с автомобилем'\n",
    "        elif 'жил' in row or 'недвиж' in row:\n",
    "            return 'операции с недвижимостью'\n",
    "        elif 'свад' in row:\n",
    "            return 'проведение свадьбы'\n",
    "        elif 'образов' in row:\n",
    "            return 'получение образования'\n",
    "    except:\n",
    "        return 'нет категории'"
   ]
  },
  {
   "cell_type": "code",
   "execution_count": 21,
   "id": "1ac0b320",
   "metadata": {
    "deletable": false,
    "id": "bf36e69b"
   },
   "outputs": [
    {
     "data": {
      "text/plain": [
       "0        операции с недвижимостью\n",
       "1          операции с автомобилем\n",
       "2        операции с недвижимостью\n",
       "3           получение образования\n",
       "4              проведение свадьбы\n",
       "                   ...           \n",
       "21520    операции с недвижимостью\n",
       "21521      операции с автомобилем\n",
       "21522    операции с недвижимостью\n",
       "21523      операции с автомобилем\n",
       "21524      операции с автомобилем\n",
       "Name: purpose_category, Length: 21331, dtype: object"
      ]
     },
     "execution_count": 21,
     "metadata": {},
     "output_type": "execute_result"
    }
   ],
   "source": [
    "data['purpose_category'] = data['purpose'].apply(categorize_purpose)\n",
    "data['purpose_category']"
   ]
  },
  {
   "cell_type": "markdown",
   "id": "9f0f86c8",
   "metadata": {
    "deletable": false,
    "editable": false,
    "id": "09b242bf"
   },
   "source": [
    "### Шаг 3. Исследуйте данные и ответьте на вопросы"
   ]
  },
  {
   "cell_type": "markdown",
   "id": "2e811892",
   "metadata": {},
   "source": [
    "<div class=\"alert alert-danger\">\n",
    "<b>Комментарий ревьюера №1</b> Замечание по всему разделу ответов на вопросы\n",
    "    \n",
    "Гораздо рациональнее здесь воспользоваться `pivot_table()`.\n",
    "    \n",
    "Чтобы найти долю должников, нужно количество должников поделить на общее число заемщиков. Эту долю можно найти с помощью функции агрегации `mean`\n",
    "    \n",
    "Попробуй получить сводную следующего вида. В индексе столбец, который исследуем (в первом вопросе это количество детей), а столбцы: 'Всего кредитополучателей', 'Всего должников', 'Доля должников'. Учитывай, что использовать параметр columns не обязательно, а в параметр aggfunc можно указывать несколько функций агрегации сразу.\n",
    "    \n",
    "Выводы нужно исправить. Их нужно делать по доле должников в каждой категории.\n",
    "\n",
    "Также могу посоветовать переименовать столбцы и написать функцию для построения сводных во всех вопросах.\n",
    "</div>"
   ]
  },
  {
   "cell_type": "markdown",
   "id": "d6a52c9f",
   "metadata": {
    "deletable": false,
    "editable": false,
    "id": "c5d66278"
   },
   "source": [
    "#### 3.1 Есть ли зависимость между количеством детей и возвратом кредита в срок?"
   ]
  },
  {
   "cell_type": "code",
   "execution_count": 22,
   "id": "fbd56fd3",
   "metadata": {
    "deletable": false,
    "id": "2cacfc4a"
   },
   "outputs": [
    {
     "data": {
      "text/html": [
       "<div>\n",
       "<style scoped>\n",
       "    .dataframe tbody tr th:only-of-type {\n",
       "        vertical-align: middle;\n",
       "    }\n",
       "\n",
       "    .dataframe tbody tr th {\n",
       "        vertical-align: top;\n",
       "    }\n",
       "\n",
       "    .dataframe thead th {\n",
       "        text-align: right;\n",
       "    }\n",
       "</style>\n",
       "<table border=\"1\" class=\"dataframe\">\n",
       "  <thead>\n",
       "    <tr style=\"text-align: right;\">\n",
       "      <th></th>\n",
       "      <th>Количество детей</th>\n",
       "      <th>Всего кредитополучателей</th>\n",
       "      <th>Всего должников</th>\n",
       "      <th>Доля должников</th>\n",
       "    </tr>\n",
       "  </thead>\n",
       "  <tbody>\n",
       "    <tr>\n",
       "      <th>4</th>\n",
       "      <td>4</td>\n",
       "      <td>41</td>\n",
       "      <td>4</td>\n",
       "      <td>9.76</td>\n",
       "    </tr>\n",
       "    <tr>\n",
       "      <th>2</th>\n",
       "      <td>2</td>\n",
       "      <td>2052</td>\n",
       "      <td>194</td>\n",
       "      <td>9.45</td>\n",
       "    </tr>\n",
       "    <tr>\n",
       "      <th>1</th>\n",
       "      <td>1</td>\n",
       "      <td>4808</td>\n",
       "      <td>444</td>\n",
       "      <td>9.23</td>\n",
       "    </tr>\n",
       "    <tr>\n",
       "      <th>3</th>\n",
       "      <td>3</td>\n",
       "      <td>330</td>\n",
       "      <td>27</td>\n",
       "      <td>8.18</td>\n",
       "    </tr>\n",
       "    <tr>\n",
       "      <th>0</th>\n",
       "      <td>0</td>\n",
       "      <td>14091</td>\n",
       "      <td>1063</td>\n",
       "      <td>7.54</td>\n",
       "    </tr>\n",
       "    <tr>\n",
       "      <th>5</th>\n",
       "      <td>5</td>\n",
       "      <td>9</td>\n",
       "      <td>0</td>\n",
       "      <td>0.00</td>\n",
       "    </tr>\n",
       "  </tbody>\n",
       "</table>\n",
       "</div>"
      ],
      "text/plain": [
       "   Количество детей  Всего кредитополучателей  Всего должников  Доля должников\n",
       "4                 4                        41                4            9.76\n",
       "2                 2                      2052              194            9.45\n",
       "1                 1                      4808              444            9.23\n",
       "3                 3                       330               27            8.18\n",
       "0                 0                     14091             1063            7.54\n",
       "5                 5                         9                0            0.00"
      ]
     },
     "execution_count": 22,
     "metadata": {},
     "output_type": "execute_result"
    }
   ],
   "source": [
    "# Ваш код будет здесь. Вы можете создавать новые ячейки.\n",
    "# Необходимо оценить долю должников по предложенным категориям. Для этого необходимо разделить общее количество должников \n",
    "# на общее число заемщиков. Для этого воспользуемся сводной таблицей с группировкой по необходимой нам категории.\n",
    "\n",
    "data_pivot_category = (data.pivot_table\n",
    "(index=['children'], \n",
    " values = 'debt', \n",
    " aggfunc = {'count','sum','mean'}, \n",
    " fill_value = '0').reset_index()\n",
    ".rename(columns={'children':'Количество детей','count': 'Всего кредитополучателей','mean':'Доля должников',\n",
    "                 'sum':'Всего должников'}).sort_values(by='Доля должников',ascending=False ))\n",
    "\n",
    "# переводим долю должников в процентное выражение, выводим значения в целых числах\n",
    "data_pivot_category['Доля должников'] = (data_pivot_category['Доля должников']*100).round(2)\n",
    "data_pivot_category['Всего кредитополучателей'] = data_pivot_category['Всего кредитополучателей'].astype('int')\n",
    "data_pivot_category['Всего должников'] = data_pivot_category['Всего должников'].astype('int')\n",
    "\n",
    "# меняем столбцы местами для удобства восприятия\n",
    "data_pivot_category [['Количество детей','Всего кредитополучателей','Всего должников','Доля должников']]"
   ]
  },
  {
   "cell_type": "markdown",
   "id": "461966ac",
   "metadata": {
    "deletable": false,
    "id": "3a6b99ec"
   },
   "source": [
    "**Вывод:** \n",
    "\n",
    "</div>Исходя из количества данных в выборке, я сделала вывод, что зависимость между количеством детей у кредитора и возвратом займа в срок существует.\n",
    "\n",
    "Для корректных выводов предлагается брать группы заемщиков с количеством детей 0,1,2, так как эти выборки содержат наибольшее количество заемщиков. \n",
    "\n",
    "Заемщики без детей имеют самую низкую долю по возвратам кредитов в срок, соответственно, являясь более надежными плательщиками для банка.\n",
    "\n",
    "Заемщики, имеющие одного или двух детей больше не возвращают кредиты в срок. \n",
    "\n",
    "Вероятно, это может быть связано с их приоритетами в виде содержания ребенка. \n"
   ]
  },
  {
   "cell_type": "markdown",
   "id": "9a59d78b",
   "metadata": {},
   "source": [
    "<div class=\"alert alert-danger\">\n",
    "<b>Комментарий ревьюера №2</b> \n",
    "    \n",
    "Людей с пятью детьми всего 9, выборка слишком маленькая для корректных выводов, статпогрешность большая\n",
    "</div>"
   ]
  },
  {
   "cell_type": "markdown",
   "id": "bf15e5dd",
   "metadata": {
    "deletable": false,
    "editable": false,
    "id": "97be82ca"
   },
   "source": [
    "#### 3.2 Есть ли зависимость между семейным положением и возвратом кредита в срок?"
   ]
  },
  {
   "cell_type": "code",
   "execution_count": 23,
   "id": "af1af2b9",
   "metadata": {
    "deletable": false,
    "id": "dc3f7ee8"
   },
   "outputs": [
    {
     "data": {
      "text/html": [
       "<div>\n",
       "<style scoped>\n",
       "    .dataframe tbody tr th:only-of-type {\n",
       "        vertical-align: middle;\n",
       "    }\n",
       "\n",
       "    .dataframe tbody tr th {\n",
       "        vertical-align: top;\n",
       "    }\n",
       "\n",
       "    .dataframe thead th {\n",
       "        text-align: right;\n",
       "    }\n",
       "</style>\n",
       "<table border=\"1\" class=\"dataframe\">\n",
       "  <thead>\n",
       "    <tr style=\"text-align: right;\">\n",
       "      <th></th>\n",
       "      <th>Семейное положение</th>\n",
       "      <th>Всего кредитополучателей</th>\n",
       "      <th>Всего должников</th>\n",
       "      <th>Доля должников</th>\n",
       "    </tr>\n",
       "  </thead>\n",
       "  <tbody>\n",
       "    <tr>\n",
       "      <th>0</th>\n",
       "      <td>Не женат / не замужем</td>\n",
       "      <td>2796</td>\n",
       "      <td>273</td>\n",
       "      <td>9.76</td>\n",
       "    </tr>\n",
       "    <tr>\n",
       "      <th>3</th>\n",
       "      <td>гражданский брак</td>\n",
       "      <td>4134</td>\n",
       "      <td>385</td>\n",
       "      <td>9.31</td>\n",
       "    </tr>\n",
       "    <tr>\n",
       "      <th>4</th>\n",
       "      <td>женат / замужем</td>\n",
       "      <td>12261</td>\n",
       "      <td>927</td>\n",
       "      <td>7.56</td>\n",
       "    </tr>\n",
       "    <tr>\n",
       "      <th>1</th>\n",
       "      <td>в разводе</td>\n",
       "      <td>1189</td>\n",
       "      <td>84</td>\n",
       "      <td>7.06</td>\n",
       "    </tr>\n",
       "    <tr>\n",
       "      <th>2</th>\n",
       "      <td>вдовец / вдова</td>\n",
       "      <td>951</td>\n",
       "      <td>63</td>\n",
       "      <td>6.62</td>\n",
       "    </tr>\n",
       "  </tbody>\n",
       "</table>\n",
       "</div>"
      ],
      "text/plain": [
       "      Семейное положение  Всего кредитополучателей  Всего должников  \\\n",
       "0  Не женат / не замужем                      2796              273   \n",
       "3       гражданский брак                      4134              385   \n",
       "4        женат / замужем                     12261              927   \n",
       "1              в разводе                      1189               84   \n",
       "2         вдовец / вдова                       951               63   \n",
       "\n",
       "   Доля должников  \n",
       "0            9.76  \n",
       "3            9.31  \n",
       "4            7.56  \n",
       "1            7.06  \n",
       "2            6.62  "
      ]
     },
     "execution_count": 23,
     "metadata": {},
     "output_type": "execute_result"
    }
   ],
   "source": [
    "# Ваш код будет здесь. Вы можете создавать новые ячейки.\n",
    "\n",
    "data_pivot_category = (data.pivot_table\n",
    "(index=['family_status'], \n",
    " values = 'debt', \n",
    " aggfunc = {'count','sum','mean'}, \n",
    " fill_value = '0').reset_index()\n",
    ".rename(columns={'family_status':'Семейное положение','count': 'Всего кредитополучателей','mean':'Доля должников',\n",
    "                 'sum':'Всего должников'})\n",
    "                       .sort_values(by='Доля должников',ascending=False ))\n",
    "\n",
    "# переводим долю должников в процентное выражение, выводим значения в целых числах\n",
    "data_pivot_category['Доля должников'] = (data_pivot_category['Доля должников']*100).round(2)\n",
    "data_pivot_category['Всего кредитополучателей'] = data_pivot_category['Всего кредитополучателей'].astype('int')\n",
    "data_pivot_category['Всего должников'] = data_pivot_category['Всего должников'].astype('int')\n",
    "\n",
    "# меняем столбцы местами для удобства восприятия\n",
    "data_pivot_category [['Семейное положение','Всего кредитополучателей','Всего должников','Доля должников']]\n"
   ]
  },
  {
   "cell_type": "markdown",
   "id": "bb84301b",
   "metadata": {
    "deletable": false,
    "id": "1cef7837"
   },
   "source": [
    "**Вывод:** \n",
    "Если судить о достаточности данных в выборке для выводов, то можно проанализировать группы клиентов с семейным положением:\n",
    "\n",
    "\n",
    "• не женат / не замужем - 9,76%\n",
    "\n",
    "\n",
    "• гражданский брак - 9,31%\n",
    "\n",
    "\n",
    "• женат / замужем - 7,56%\n",
    "\n",
    "Видно, что наибольшая доля клиентов, не возвращающих кредиты в срок, приходится на клиентов с семейным положением \"не женат/не замужем\", небольшой отрыв у клиентов со статусом \"гражданский брак\". \n",
    "Клиенты в положении \"женат/замужем\" имеют долю в 7,56%, что говорит о их большей степени надежности. "
   ]
  },
  {
   "cell_type": "markdown",
   "id": "1a6d7ea1",
   "metadata": {},
   "source": [
    "<div class=\"alert alert-danger\">\n",
    "<b>Комментарий ревьюера №2</b> \n",
    "    \n",
    "Вывод нужно поправить\n",
    "</div>"
   ]
  },
  {
   "cell_type": "markdown",
   "id": "6d3db4bb",
   "metadata": {
    "deletable": false,
    "editable": false,
    "id": "1e8b2fca"
   },
   "source": [
    "#### 3.3 Есть ли зависимость между уровнем дохода и возвратом кредита в срок?"
   ]
  },
  {
   "cell_type": "code",
   "execution_count": 24,
   "id": "ebf56ba5",
   "metadata": {
    "deletable": false,
    "id": "cd7e3720"
   },
   "outputs": [
    {
     "data": {
      "text/html": [
       "<div>\n",
       "<style scoped>\n",
       "    .dataframe tbody tr th:only-of-type {\n",
       "        vertical-align: middle;\n",
       "    }\n",
       "\n",
       "    .dataframe tbody tr th {\n",
       "        vertical-align: top;\n",
       "    }\n",
       "\n",
       "    .dataframe thead th {\n",
       "        text-align: right;\n",
       "    }\n",
       "</style>\n",
       "<table border=\"1\" class=\"dataframe\">\n",
       "  <thead>\n",
       "    <tr style=\"text-align: right;\">\n",
       "      <th></th>\n",
       "      <th>Категория дохода</th>\n",
       "      <th>Всего кредитополучателей</th>\n",
       "      <th>Всего должников</th>\n",
       "      <th>Доля должников</th>\n",
       "    </tr>\n",
       "  </thead>\n",
       "  <tbody>\n",
       "    <tr>\n",
       "      <th>0</th>\n",
       "      <td>A</td>\n",
       "      <td>25</td>\n",
       "      <td>2</td>\n",
       "      <td>8.00</td>\n",
       "    </tr>\n",
       "    <tr>\n",
       "      <th>1</th>\n",
       "      <td>B</td>\n",
       "      <td>5014</td>\n",
       "      <td>354</td>\n",
       "      <td>7.06</td>\n",
       "    </tr>\n",
       "    <tr>\n",
       "      <th>2</th>\n",
       "      <td>C</td>\n",
       "      <td>15921</td>\n",
       "      <td>1353</td>\n",
       "      <td>8.50</td>\n",
       "    </tr>\n",
       "    <tr>\n",
       "      <th>3</th>\n",
       "      <td>D</td>\n",
       "      <td>349</td>\n",
       "      <td>21</td>\n",
       "      <td>6.02</td>\n",
       "    </tr>\n",
       "    <tr>\n",
       "      <th>4</th>\n",
       "      <td>E</td>\n",
       "      <td>22</td>\n",
       "      <td>2</td>\n",
       "      <td>9.09</td>\n",
       "    </tr>\n",
       "  </tbody>\n",
       "</table>\n",
       "</div>"
      ],
      "text/plain": [
       "  Категория дохода  Всего кредитополучателей  Всего должников  Доля должников\n",
       "0                A                        25                2            8.00\n",
       "1                B                      5014              354            7.06\n",
       "2                C                     15921             1353            8.50\n",
       "3                D                       349               21            6.02\n",
       "4                E                        22                2            9.09"
      ]
     },
     "execution_count": 24,
     "metadata": {},
     "output_type": "execute_result"
    }
   ],
   "source": [
    "# Ваш код будет здесь. Вы можете создавать новые ячейки.\n",
    "data_pivot_category = (data.pivot_table\n",
    "(index=['total_income_category'], \n",
    " values = 'debt', \n",
    " aggfunc = {'count','sum','mean'}, \n",
    " fill_value = '0').reset_index()\n",
    ".rename(columns={'total_income_category':'Категория дохода','count': 'Всего кредитополучателей','mean':'Доля должников','sum':'Всего должников'}))\n",
    "\n",
    "# переводим долю должников в процентное выражение, выводим значения в целых числах\n",
    "data_pivot_category['Доля должников'] = (data_pivot_category['Доля должников']*100).round(2)\n",
    "data_pivot_category['Всего кредитополучателей'] = data_pivot_category['Всего кредитополучателей'].astype('int')\n",
    "data_pivot_category['Всего должников'] = data_pivot_category['Всего должников'].astype('int')\n",
    "\n",
    "# меняем столбцы местами для удобства восприятия\n",
    "data_pivot_category [['Категория дохода','Всего кредитополучателей','Всего должников','Доля должников']]\n",
    "\n",
    "# Категории доходности:\n",
    "# Е от 0 до 30 000\n",
    "# D от 30 001 до 50 000\n",
    "# С от 50 001 до 200 000\n",
    "# В от 200 001 до 1 000 000\n",
    "# А более 1 000 001"
   ]
  },
  {
   "cell_type": "markdown",
   "id": "846470f9",
   "metadata": {
    "deletable": false,
    "id": "e8593def"
   },
   "source": [
    "**Вывод:** \n",
    "Если брать группы с выборками, достаточными для обработки, то рассмотрим категории доходности заемщиков В и С.\n",
    "\n",
    "\n",
    "Доля кредитов, возвращенных не в срок в категории клиентов С, с доходом от 50 001 до 200 000 составляет 8,5%.\n",
    "\n",
    "\n",
    "Клиенты с доходностью В от 200 001 до 1 000 000 имеют долю 7,06% по кредитам, невозвращенным в срок. \n",
    "\n",
    "\n",
    "Категории с доходами ниже среднего и выше (группы А, D, E) очевидно реже обращаются за кредитами. \n"
   ]
  },
  {
   "cell_type": "markdown",
   "id": "9fc6f7f0",
   "metadata": {},
   "source": [
    "<div class=\"alert alert-danger\">\n",
    "<b>Комментарий ревьюера №2</b> \n",
    "    \n",
    "Здесь лучше делать выводы по двум самым крупным категориям - B и С\n",
    "</div>"
   ]
  },
  {
   "cell_type": "markdown",
   "id": "2992aac3",
   "metadata": {
    "deletable": false,
    "editable": false,
    "id": "99ecbd1f"
   },
   "source": [
    "#### 3.4 Как разные цели кредита влияют на его возврат в срок?"
   ]
  },
  {
   "cell_type": "code",
   "execution_count": 25,
   "id": "f1b9b3cd",
   "metadata": {
    "deletable": false,
    "id": "2b687290"
   },
   "outputs": [
    {
     "data": {
      "text/html": [
       "<div>\n",
       "<style scoped>\n",
       "    .dataframe tbody tr th:only-of-type {\n",
       "        vertical-align: middle;\n",
       "    }\n",
       "\n",
       "    .dataframe tbody tr th {\n",
       "        vertical-align: top;\n",
       "    }\n",
       "\n",
       "    .dataframe thead th {\n",
       "        text-align: right;\n",
       "    }\n",
       "</style>\n",
       "<table border=\"1\" class=\"dataframe\">\n",
       "  <thead>\n",
       "    <tr style=\"text-align: right;\">\n",
       "      <th></th>\n",
       "      <th>Цель кредита</th>\n",
       "      <th>Всего кредитополучателей</th>\n",
       "      <th>Всего должников</th>\n",
       "      <th>Доля должников</th>\n",
       "    </tr>\n",
       "  </thead>\n",
       "  <tbody>\n",
       "    <tr>\n",
       "      <th>0</th>\n",
       "      <td>операции с автомобилем</td>\n",
       "      <td>4279</td>\n",
       "      <td>400</td>\n",
       "      <td>9.35</td>\n",
       "    </tr>\n",
       "    <tr>\n",
       "      <th>2</th>\n",
       "      <td>получение образования</td>\n",
       "      <td>3988</td>\n",
       "      <td>369</td>\n",
       "      <td>9.25</td>\n",
       "    </tr>\n",
       "    <tr>\n",
       "      <th>3</th>\n",
       "      <td>проведение свадьбы</td>\n",
       "      <td>2313</td>\n",
       "      <td>183</td>\n",
       "      <td>7.91</td>\n",
       "    </tr>\n",
       "    <tr>\n",
       "      <th>1</th>\n",
       "      <td>операции с недвижимостью</td>\n",
       "      <td>10751</td>\n",
       "      <td>780</td>\n",
       "      <td>7.26</td>\n",
       "    </tr>\n",
       "  </tbody>\n",
       "</table>\n",
       "</div>"
      ],
      "text/plain": [
       "               Цель кредита  Всего кредитополучателей  Всего должников  \\\n",
       "0    операции с автомобилем                      4279              400   \n",
       "2     получение образования                      3988              369   \n",
       "3        проведение свадьбы                      2313              183   \n",
       "1  операции с недвижимостью                     10751              780   \n",
       "\n",
       "   Доля должников  \n",
       "0            9.35  \n",
       "2            9.25  \n",
       "3            7.91  \n",
       "1            7.26  "
      ]
     },
     "execution_count": 25,
     "metadata": {},
     "output_type": "execute_result"
    }
   ],
   "source": [
    "# Ваш код будет здесь. Вы можете создавать новые ячейки.\n",
    "data_pivot_category = (data.pivot_table\n",
    "(index=['purpose_category'], \n",
    " values = 'debt', \n",
    " aggfunc = {'count','sum','mean'}, \n",
    " fill_value = '0').reset_index()\n",
    ".rename(columns={'purpose_category':'Цель кредита','count': 'Всего кредитополучателей','mean':'Доля должников','sum':'Всего должников'}).sort_values(by='Доля должников',ascending=False ))\n",
    "\n",
    "# переводим долю должников в процентное выражение, выводим значения в целых числах\n",
    "data_pivot_category['Доля должников'] = (data_pivot_category['Доля должников']*100).round(2)\n",
    "data_pivot_category['Всего кредитополучателей'] = data_pivot_category['Всего кредитополучателей'].astype('int')\n",
    "data_pivot_category['Всего должников'] = data_pivot_category['Всего должников'].astype('int')\n",
    "\n",
    "# меняем столбцы местами для удобства восприятия\n",
    "data_pivot_category [['Цель кредита','Всего кредитополучателей','Всего должников','Доля должников']]"
   ]
  },
  {
   "cell_type": "markdown",
   "id": "9f507d12",
   "metadata": {
    "deletable": false,
    "id": "b4bb2ce6"
   },
   "source": [
    "**Вывод:** \n",
    "\n",
    "Заемщики, которые в целях кредитования указывают \"операции с автомобилем\", составляют наибольшую долю среди заемщиков, возвращающих кредиты не в срок.\n",
    "Из данных видно, что займы на проведение свадеб и операции с недвижимостью имеют больший процент возвратов в срок."
   ]
  },
  {
   "cell_type": "markdown",
   "id": "2d5f5fad",
   "metadata": {},
   "source": [
    "<div class=\"alert alert-success\">\n",
    "<b>Комментарий ревьюера №2</b> \n",
    "    \n",
    "Верно\n",
    "</div>"
   ]
  },
  {
   "cell_type": "markdown",
   "id": "4afbb01c",
   "metadata": {
    "deletable": false,
    "editable": false,
    "id": "09c3ac4c"
   },
   "source": [
    "#### 3.5 Приведите возможные причины появления пропусков в исходных данных."
   ]
  },
  {
   "cell_type": "markdown",
   "id": "f73ca8b2",
   "metadata": {
    "deletable": false,
    "id": "9da2ceda"
   },
   "source": [
    "*Ответ:* \n",
    "\n",
    "Несколько причин, по которым в данных могли возникнуть пропуски:\n",
    "\n",
    "1) Имеются необязательные к заполнению поля для клиентов;\n",
    "\n",
    "2) Технические ошибки при импорте/экспорте данных;\n",
    "\n",
    "3) Человеческий фактор при заполнении полей;"
   ]
  },
  {
   "cell_type": "markdown",
   "id": "f5e2ced1",
   "metadata": {},
   "source": [
    "<div class=\"alert alert-success\">\n",
    "<b>Комментарий ревьюера №1</b> \n",
    "    \n",
    "Хорошие предположения\n",
    "</div>"
   ]
  },
  {
   "cell_type": "markdown",
   "id": "d39b6cea",
   "metadata": {
    "deletable": false,
    "editable": false,
    "id": "7b0487d6"
   },
   "source": [
    "#### 3.6 Объясните, почему заполнить пропуски медианным значением — лучшее решение для количественных переменных."
   ]
  },
  {
   "cell_type": "markdown",
   "id": "43f4a1d9",
   "metadata": {
    "deletable": false,
    "id": "7ecf2b8e"
   },
   "source": [
    "*Ответ:* \n",
    "\n",
    "Заполнение пропусков медианными значениями является более корректным методом, так как средние значения в данных искажаются за счет максимумов и минимумов в выборке. "
   ]
  },
  {
   "cell_type": "markdown",
   "id": "b751abba",
   "metadata": {},
   "source": [
    "<div class=\"alert alert-warning\">\n",
    "<b>Комментарий ревьюера №1</b> \n",
    "    \n",
    "Среднее и медиана различаются, если в выборке присутствуют выбросы (значения, выделяющиеся из общей выборки). Медиана позволяет нивелировать их влияние.\n",
    "</div>"
   ]
  },
  {
   "cell_type": "markdown",
   "id": "7f26f482",
   "metadata": {
    "deletable": false,
    "editable": false,
    "id": "6db5255a"
   },
   "source": [
    "### Шаг 4: общий вывод."
   ]
  },
  {
   "cell_type": "markdown",
   "id": "cac65d6a",
   "metadata": {
    "deletable": false,
    "id": "bad65432"
   },
   "source": [
    "Для более точных выводов и дальнейшей обработки данных я бы предложила ввести стандарт заведения таких данных, с формой обязательных полей,ограничением количества символов в части полей и возможных символов к вводу.\n",
    "\n",
    "По полученным данным можно сделать вывод, что корреляция между различными категориями заемщиков и возвращением кредита в срок есть. \n",
    "Анализируя такие данные, можно предложить составить категории уровня риска заемщиков и выставлять дополнительные требования к заемщикам, входящим в группы повышенного риска.\n",
    "\n",
    "Для оценки группы риска можно взять анкетные данные заемщика:\n",
    "•количество детей\n",
    "•семейное положение\n",
    "•доход заемщика\n",
    "•цель кредита\n",
    "\n",
    "Из полученных выше выводов, портрет клиента, с высокой вероятностью возврата кредита в срок на основании его анкетных данных будет таким:\n",
    "•количество детей - 0\n",
    "•семейное положение - женат/замужем\n",
    "•доход заемщика - от 200.001 до 1.000.000\n",
    "•цель кредита - операции с недвижимостью\n",
    "\n",
    "Я бы предложила также добавить статистику по сумме и сроку кредита, для анализа данных о досрочных погашениях.\n",
    "\n"
   ]
  },
  {
   "cell_type": "markdown",
   "id": "79b5274a",
   "metadata": {},
   "source": [
    "<div class=\"alert alert-danger\">\n",
    "<b>Комментарий ревьюера №1</b> \n",
    "    \n",
    "Выводы нужно будет дополнить. Опиши все найденные зависимости. Также можно добавить рекомендации банку-заказчику, описать портрет \"идеального\" клиента и/или, наоборот, наиболее рискованного клиента.\n",
    "</div>"
   ]
  },
  {
   "cell_type": "markdown",
   "id": "c3a9777f",
   "metadata": {},
   "source": [
    "<div class=\"alert alert-danger\">\n",
    "<b>Комментарий ревьюера №2</b> \n",
    "    \n",
    "Поправь, пожалуйста, выводы по детям и доходу\n",
    "</div>"
   ]
  },
  {
   "cell_type": "markdown",
   "id": "534eafb8",
   "metadata": {},
   "source": [
    "Спасибо большое за правки и терпение. Спешу, очень хочется сдать первый проект, а с долями до этого были трудности. \n"
   ]
  },
  {
   "cell_type": "markdown",
   "id": "cd408845",
   "metadata": {},
   "source": [
    "<div style=\"border:solid purple 2px; padding: 20px\"> \n",
    "<b> <font color='purple' >   \n",
    "    \n",
    "Ты хорошо постаралась, но проект еще нуждается в доработке. Доделывай и присылай на повторную проверку.\n",
    "        \n",
    "Жду твоих исправлений 😊\n",
    "</font></b>\n",
    "</div>"
   ]
  },
  {
   "cell_type": "markdown",
   "id": "1f32e534",
   "metadata": {},
   "source": [
    "<div style=\"border:solid purple 2px; padding: 20px\"> \n",
    "<b> <font color='purple' >   \n",
    "Отлично! Критических замечаний больше нет. Проект принят! 👏 Поздравляю и желаю удачи!\n",
    "</font></b>\n",
    "</div>"
   ]
  }
 ],
 "metadata": {
  "ExecuteTimeLog": [
   {
    "duration": 502,
    "start_time": "2022-09-26T11:58:04.439Z"
   },
   {
    "duration": 24,
    "start_time": "2022-09-26T11:58:04.942Z"
   },
   {
    "duration": 17,
    "start_time": "2022-09-26T11:58:04.968Z"
   },
   {
    "duration": 15,
    "start_time": "2022-09-26T11:58:04.988Z"
   },
   {
    "duration": 57,
    "start_time": "2022-09-26T11:58:05.005Z"
   },
   {
    "duration": 4,
    "start_time": "2022-09-26T11:58:05.065Z"
   },
   {
    "duration": 15,
    "start_time": "2022-09-26T11:58:05.070Z"
   },
   {
    "duration": 4,
    "start_time": "2022-09-26T11:58:05.087Z"
   },
   {
    "duration": 17,
    "start_time": "2022-09-26T11:58:05.093Z"
   },
   {
    "duration": 6,
    "start_time": "2022-09-26T11:58:05.113Z"
   },
   {
    "duration": 55,
    "start_time": "2022-09-26T11:58:05.120Z"
   },
   {
    "duration": 10,
    "start_time": "2022-09-26T11:58:05.177Z"
   },
   {
    "duration": 9,
    "start_time": "2022-09-26T11:58:05.188Z"
   },
   {
    "duration": 15,
    "start_time": "2022-09-26T11:58:05.198Z"
   },
   {
    "duration": 40,
    "start_time": "2022-09-26T11:58:05.215Z"
   },
   {
    "duration": 21,
    "start_time": "2022-09-26T11:58:05.257Z"
   },
   {
    "duration": 4,
    "start_time": "2022-09-26T11:58:05.280Z"
   },
   {
    "duration": 17,
    "start_time": "2022-09-26T11:58:05.285Z"
   },
   {
    "duration": 21,
    "start_time": "2022-09-26T11:58:05.304Z"
   },
   {
    "duration": 6,
    "start_time": "2022-09-26T11:58:05.326Z"
   },
   {
    "duration": 20,
    "start_time": "2022-09-26T11:58:05.334Z"
   },
   {
    "duration": 72,
    "start_time": "2022-09-26T11:58:07.228Z"
   },
   {
    "duration": 20,
    "start_time": "2022-09-26T11:58:43.030Z"
   },
   {
    "duration": 71,
    "start_time": "2022-09-26T11:58:47.803Z"
   },
   {
    "duration": 16,
    "start_time": "2022-09-26T11:58:47.876Z"
   },
   {
    "duration": 15,
    "start_time": "2022-09-26T11:58:47.894Z"
   },
   {
    "duration": 9,
    "start_time": "2022-09-26T11:58:47.912Z"
   },
   {
    "duration": 59,
    "start_time": "2022-09-26T11:58:47.922Z"
   },
   {
    "duration": 3,
    "start_time": "2022-09-26T11:58:47.983Z"
   },
   {
    "duration": 9,
    "start_time": "2022-09-26T11:58:47.988Z"
   },
   {
    "duration": 6,
    "start_time": "2022-09-26T11:58:47.999Z"
   },
   {
    "duration": 9,
    "start_time": "2022-09-26T11:58:48.007Z"
   },
   {
    "duration": 6,
    "start_time": "2022-09-26T11:58:48.019Z"
   },
   {
    "duration": 53,
    "start_time": "2022-09-26T11:58:48.026Z"
   },
   {
    "duration": 10,
    "start_time": "2022-09-26T11:58:48.080Z"
   },
   {
    "duration": 4,
    "start_time": "2022-09-26T11:58:48.091Z"
   },
   {
    "duration": 14,
    "start_time": "2022-09-26T11:58:48.096Z"
   },
   {
    "duration": 43,
    "start_time": "2022-09-26T11:58:48.112Z"
   },
   {
    "duration": 19,
    "start_time": "2022-09-26T11:58:48.157Z"
   },
   {
    "duration": 3,
    "start_time": "2022-09-26T11:58:48.178Z"
   },
   {
    "duration": 29,
    "start_time": "2022-09-26T11:58:48.183Z"
   },
   {
    "duration": 12,
    "start_time": "2022-09-26T11:58:48.214Z"
   },
   {
    "duration": 4,
    "start_time": "2022-09-26T11:58:48.228Z"
   },
   {
    "duration": 26,
    "start_time": "2022-09-26T11:58:48.234Z"
   },
   {
    "duration": 19,
    "start_time": "2022-09-26T11:58:48.262Z"
   },
   {
    "duration": 15,
    "start_time": "2022-09-26T11:59:14.433Z"
   },
   {
    "duration": 16,
    "start_time": "2022-09-26T11:59:22.104Z"
   },
   {
    "duration": 528,
    "start_time": "2022-09-26T11:59:27.547Z"
   },
   {
    "duration": 28,
    "start_time": "2022-09-26T11:59:28.077Z"
   },
   {
    "duration": 20,
    "start_time": "2022-09-26T11:59:28.110Z"
   },
   {
    "duration": 31,
    "start_time": "2022-09-26T11:59:28.132Z"
   },
   {
    "duration": 34,
    "start_time": "2022-09-26T11:59:28.165Z"
   },
   {
    "duration": 4,
    "start_time": "2022-09-26T11:59:28.201Z"
   },
   {
    "duration": 15,
    "start_time": "2022-09-26T11:59:28.207Z"
   },
   {
    "duration": 5,
    "start_time": "2022-09-26T11:59:28.224Z"
   },
   {
    "duration": 20,
    "start_time": "2022-09-26T11:59:28.255Z"
   },
   {
    "duration": 8,
    "start_time": "2022-09-26T11:59:28.277Z"
   },
   {
    "duration": 55,
    "start_time": "2022-09-26T11:59:28.287Z"
   },
   {
    "duration": 9,
    "start_time": "2022-09-26T11:59:28.344Z"
   },
   {
    "duration": 26,
    "start_time": "2022-09-26T11:59:28.355Z"
   },
   {
    "duration": 17,
    "start_time": "2022-09-26T11:59:28.382Z"
   },
   {
    "duration": 25,
    "start_time": "2022-09-26T11:59:28.401Z"
   },
   {
    "duration": 17,
    "start_time": "2022-09-26T11:59:28.428Z"
   },
   {
    "duration": 4,
    "start_time": "2022-09-26T11:59:28.447Z"
   },
   {
    "duration": 33,
    "start_time": "2022-09-26T11:59:28.452Z"
   },
   {
    "duration": 9,
    "start_time": "2022-09-26T11:59:28.487Z"
   },
   {
    "duration": 4,
    "start_time": "2022-09-26T11:59:28.498Z"
   },
   {
    "duration": 14,
    "start_time": "2022-09-26T11:59:28.503Z"
   },
   {
    "duration": 84,
    "start_time": "2022-09-26T11:59:28.518Z"
   },
   {
    "duration": 0,
    "start_time": "2022-09-26T11:59:28.604Z"
   },
   {
    "duration": 0,
    "start_time": "2022-09-26T11:59:28.605Z"
   },
   {
    "duration": 0,
    "start_time": "2022-09-26T11:59:28.606Z"
   },
   {
    "duration": 2,
    "start_time": "2022-09-26T12:01:45.158Z"
   },
   {
    "duration": 72,
    "start_time": "2022-09-26T12:01:49.648Z"
   },
   {
    "duration": 16,
    "start_time": "2022-09-26T12:01:49.722Z"
   },
   {
    "duration": 17,
    "start_time": "2022-09-26T12:01:49.740Z"
   },
   {
    "duration": 10,
    "start_time": "2022-09-26T12:01:49.760Z"
   },
   {
    "duration": 39,
    "start_time": "2022-09-26T12:01:49.771Z"
   },
   {
    "duration": 4,
    "start_time": "2022-09-26T12:01:49.811Z"
   },
   {
    "duration": 12,
    "start_time": "2022-09-26T12:01:49.816Z"
   },
   {
    "duration": 27,
    "start_time": "2022-09-26T12:01:49.830Z"
   },
   {
    "duration": 15,
    "start_time": "2022-09-26T12:01:49.859Z"
   },
   {
    "duration": 16,
    "start_time": "2022-09-26T12:01:49.877Z"
   },
   {
    "duration": 47,
    "start_time": "2022-09-26T12:01:49.895Z"
   },
   {
    "duration": 11,
    "start_time": "2022-09-26T12:01:49.943Z"
   },
   {
    "duration": 90,
    "start_time": "2022-09-26T12:01:49.956Z"
   },
   {
    "duration": 26,
    "start_time": "2022-09-26T12:01:50.048Z"
   },
   {
    "duration": 42,
    "start_time": "2022-09-26T12:01:50.076Z"
   },
   {
    "duration": 20,
    "start_time": "2022-09-26T12:01:50.119Z"
   },
   {
    "duration": 4,
    "start_time": "2022-09-26T12:01:50.140Z"
   },
   {
    "duration": 15,
    "start_time": "2022-09-26T12:01:50.146Z"
   },
   {
    "duration": 7,
    "start_time": "2022-09-26T12:01:50.163Z"
   },
   {
    "duration": 19,
    "start_time": "2022-09-26T12:01:50.173Z"
   },
   {
    "duration": 31,
    "start_time": "2022-09-26T12:01:50.194Z"
   },
   {
    "duration": 11,
    "start_time": "2022-09-26T12:07:39.575Z"
   },
   {
    "duration": 12,
    "start_time": "2022-09-26T12:10:34.283Z"
   },
   {
    "duration": 10,
    "start_time": "2022-09-26T12:10:41.725Z"
   },
   {
    "duration": 12,
    "start_time": "2022-09-26T12:10:50.012Z"
   },
   {
    "duration": 14,
    "start_time": "2022-09-26T12:16:40.253Z"
   },
   {
    "duration": 14,
    "start_time": "2022-09-26T12:16:47.109Z"
   },
   {
    "duration": 13,
    "start_time": "2022-09-26T12:17:24.566Z"
   },
   {
    "duration": 15,
    "start_time": "2022-09-26T12:18:13.260Z"
   },
   {
    "duration": 17,
    "start_time": "2022-09-26T12:18:33.533Z"
   },
   {
    "duration": 11,
    "start_time": "2022-09-26T12:24:22.020Z"
   },
   {
    "duration": 13,
    "start_time": "2022-09-26T12:24:40.803Z"
   },
   {
    "duration": 12,
    "start_time": "2022-09-26T12:24:53.508Z"
   },
   {
    "duration": 12,
    "start_time": "2022-09-26T12:25:06.980Z"
   },
   {
    "duration": 16,
    "start_time": "2022-09-26T12:25:20.251Z"
   },
   {
    "duration": 13,
    "start_time": "2022-09-26T12:25:35.755Z"
   },
   {
    "duration": 12,
    "start_time": "2022-09-26T12:25:50.499Z"
   },
   {
    "duration": 17,
    "start_time": "2022-09-26T12:27:16.585Z"
   },
   {
    "duration": 16,
    "start_time": "2022-09-26T12:27:29.089Z"
   },
   {
    "duration": 17,
    "start_time": "2022-09-26T12:28:17.688Z"
   },
   {
    "duration": 8,
    "start_time": "2022-09-26T12:36:51.886Z"
   },
   {
    "duration": 10,
    "start_time": "2022-09-26T12:36:57.406Z"
   },
   {
    "duration": 13,
    "start_time": "2022-09-26T12:38:32.053Z"
   },
   {
    "duration": 15,
    "start_time": "2022-09-26T12:38:41.348Z"
   },
   {
    "duration": 16,
    "start_time": "2022-09-26T12:38:55.044Z"
   },
   {
    "duration": 15,
    "start_time": "2022-09-26T12:39:14.068Z"
   },
   {
    "duration": 17,
    "start_time": "2022-09-26T12:39:21.285Z"
   },
   {
    "duration": 18,
    "start_time": "2022-09-26T12:39:30.684Z"
   },
   {
    "duration": 16,
    "start_time": "2022-09-26T12:39:34.411Z"
   },
   {
    "duration": 15,
    "start_time": "2022-09-26T12:48:12.594Z"
   },
   {
    "duration": 52,
    "start_time": "2022-09-26T15:26:55.581Z"
   },
   {
    "duration": 690,
    "start_time": "2022-09-26T15:27:21.257Z"
   },
   {
    "duration": 21,
    "start_time": "2022-09-26T15:27:21.949Z"
   },
   {
    "duration": 13,
    "start_time": "2022-09-26T15:27:21.971Z"
   },
   {
    "duration": 9,
    "start_time": "2022-09-26T15:27:21.986Z"
   },
   {
    "duration": 45,
    "start_time": "2022-09-26T15:27:21.996Z"
   },
   {
    "duration": 3,
    "start_time": "2022-09-26T15:27:22.043Z"
   },
   {
    "duration": 18,
    "start_time": "2022-09-26T15:27:22.047Z"
   },
   {
    "duration": 14,
    "start_time": "2022-09-26T15:27:22.066Z"
   },
   {
    "duration": 14,
    "start_time": "2022-09-26T15:27:22.081Z"
   },
   {
    "duration": 9,
    "start_time": "2022-09-26T15:27:22.097Z"
   },
   {
    "duration": 42,
    "start_time": "2022-09-26T15:27:22.107Z"
   },
   {
    "duration": 8,
    "start_time": "2022-09-26T15:27:22.150Z"
   },
   {
    "duration": 10,
    "start_time": "2022-09-26T15:27:22.160Z"
   },
   {
    "duration": 36,
    "start_time": "2022-09-26T15:27:22.172Z"
   },
   {
    "duration": 40,
    "start_time": "2022-09-26T15:27:22.210Z"
   },
   {
    "duration": 16,
    "start_time": "2022-09-26T15:27:22.251Z"
   },
   {
    "duration": 3,
    "start_time": "2022-09-26T15:27:22.269Z"
   },
   {
    "duration": 43,
    "start_time": "2022-09-26T15:27:22.274Z"
   },
   {
    "duration": 10,
    "start_time": "2022-09-26T15:27:22.319Z"
   },
   {
    "duration": 19,
    "start_time": "2022-09-26T15:27:22.331Z"
   },
   {
    "duration": 19,
    "start_time": "2022-09-26T15:27:22.352Z"
   },
   {
    "duration": 1073,
    "start_time": "2022-09-26T15:27:25.148Z"
   },
   {
    "duration": 795,
    "start_time": "2022-09-26T15:28:06.912Z"
   },
   {
    "duration": 15,
    "start_time": "2022-09-26T15:28:27.192Z"
   },
   {
    "duration": 14,
    "start_time": "2022-09-26T15:30:29.464Z"
   },
   {
    "duration": 13,
    "start_time": "2022-09-26T15:35:57.455Z"
   },
   {
    "duration": 13,
    "start_time": "2022-09-26T15:36:46.132Z"
   },
   {
    "duration": 14,
    "start_time": "2022-09-26T15:39:27.898Z"
   },
   {
    "duration": 14,
    "start_time": "2022-09-26T15:39:42.900Z"
   },
   {
    "duration": 60,
    "start_time": "2022-09-26T15:40:52.566Z"
   },
   {
    "duration": 45,
    "start_time": "2022-09-26T15:41:06.273Z"
   },
   {
    "duration": 46,
    "start_time": "2022-09-26T15:41:22.501Z"
   },
   {
    "duration": 13,
    "start_time": "2022-09-26T15:41:29.631Z"
   },
   {
    "duration": 16,
    "start_time": "2022-09-26T15:41:42.121Z"
   },
   {
    "duration": 14,
    "start_time": "2022-09-26T15:42:22.725Z"
   },
   {
    "duration": 16,
    "start_time": "2022-09-26T15:42:51.389Z"
   },
   {
    "duration": 15,
    "start_time": "2022-09-26T15:48:39.480Z"
   },
   {
    "duration": 14,
    "start_time": "2022-09-26T15:51:00.359Z"
   },
   {
    "duration": 14,
    "start_time": "2022-09-26T15:56:38.253Z"
   },
   {
    "duration": 12,
    "start_time": "2022-09-26T16:03:50.153Z"
   },
   {
    "duration": 19,
    "start_time": "2022-09-26T16:04:14.260Z"
   },
   {
    "duration": 15,
    "start_time": "2022-09-26T16:04:25.074Z"
   },
   {
    "duration": 20,
    "start_time": "2022-09-26T16:06:28.602Z"
   },
   {
    "duration": 489,
    "start_time": "2022-09-26T16:26:58.280Z"
   },
   {
    "duration": 31,
    "start_time": "2022-09-26T16:26:58.772Z"
   },
   {
    "duration": 15,
    "start_time": "2022-09-26T16:26:58.805Z"
   },
   {
    "duration": 10,
    "start_time": "2022-09-26T16:26:58.821Z"
   },
   {
    "duration": 44,
    "start_time": "2022-09-26T16:26:58.834Z"
   },
   {
    "duration": 16,
    "start_time": "2022-09-26T16:26:58.880Z"
   },
   {
    "duration": 10,
    "start_time": "2022-09-26T16:26:58.898Z"
   },
   {
    "duration": 4,
    "start_time": "2022-09-26T16:26:58.909Z"
   },
   {
    "duration": 9,
    "start_time": "2022-09-26T16:26:58.914Z"
   },
   {
    "duration": 4,
    "start_time": "2022-09-26T16:26:58.925Z"
   },
   {
    "duration": 37,
    "start_time": "2022-09-26T16:26:58.930Z"
   },
   {
    "duration": 9,
    "start_time": "2022-09-26T16:26:58.996Z"
   },
   {
    "duration": 6,
    "start_time": "2022-09-26T16:26:59.007Z"
   },
   {
    "duration": 17,
    "start_time": "2022-09-26T16:26:59.017Z"
   },
   {
    "duration": 24,
    "start_time": "2022-09-26T16:26:59.037Z"
   },
   {
    "duration": 43,
    "start_time": "2022-09-26T16:26:59.063Z"
   },
   {
    "duration": 4,
    "start_time": "2022-09-26T16:26:59.108Z"
   },
   {
    "duration": 19,
    "start_time": "2022-09-26T16:26:59.114Z"
   },
   {
    "duration": 8,
    "start_time": "2022-09-26T16:26:59.135Z"
   },
   {
    "duration": 5,
    "start_time": "2022-09-26T16:26:59.145Z"
   },
   {
    "duration": 12,
    "start_time": "2022-09-26T16:26:59.152Z"
   },
   {
    "duration": 42,
    "start_time": "2022-09-26T16:26:59.166Z"
   },
   {
    "duration": 16,
    "start_time": "2022-09-26T16:26:59.210Z"
   },
   {
    "duration": 16,
    "start_time": "2022-09-26T16:26:59.228Z"
   },
   {
    "duration": 15,
    "start_time": "2022-09-26T16:26:59.246Z"
   },
   {
    "duration": 694,
    "start_time": "2022-09-27T12:24:55.049Z"
   },
   {
    "duration": 30,
    "start_time": "2022-09-27T12:24:55.745Z"
   },
   {
    "duration": 14,
    "start_time": "2022-09-27T12:24:55.777Z"
   },
   {
    "duration": 15,
    "start_time": "2022-09-27T12:24:55.794Z"
   },
   {
    "duration": 30,
    "start_time": "2022-09-27T12:24:55.811Z"
   },
   {
    "duration": 4,
    "start_time": "2022-09-27T12:24:55.842Z"
   },
   {
    "duration": 11,
    "start_time": "2022-09-27T12:24:55.848Z"
   },
   {
    "duration": 5,
    "start_time": "2022-09-27T12:24:55.861Z"
   },
   {
    "duration": 8,
    "start_time": "2022-09-27T12:24:55.868Z"
   },
   {
    "duration": 32,
    "start_time": "2022-09-27T12:24:55.878Z"
   },
   {
    "duration": 47,
    "start_time": "2022-09-27T12:24:55.911Z"
   },
   {
    "duration": 13,
    "start_time": "2022-09-27T12:24:55.960Z"
   },
   {
    "duration": 4,
    "start_time": "2022-09-27T12:24:55.975Z"
   },
   {
    "duration": 36,
    "start_time": "2022-09-27T12:24:55.980Z"
   },
   {
    "duration": 22,
    "start_time": "2022-09-27T12:24:56.018Z"
   },
   {
    "duration": 17,
    "start_time": "2022-09-27T12:24:56.041Z"
   },
   {
    "duration": 4,
    "start_time": "2022-09-27T12:24:56.060Z"
   },
   {
    "duration": 12,
    "start_time": "2022-09-27T12:24:56.066Z"
   },
   {
    "duration": 31,
    "start_time": "2022-09-27T12:24:56.079Z"
   },
   {
    "duration": 3,
    "start_time": "2022-09-27T12:24:56.112Z"
   },
   {
    "duration": 13,
    "start_time": "2022-09-27T12:24:56.117Z"
   },
   {
    "duration": 3,
    "start_time": "2022-09-27T12:24:57.307Z"
   },
   {
    "duration": 5,
    "start_time": "2022-09-27T12:25:07.750Z"
   },
   {
    "duration": 4,
    "start_time": "2022-09-27T12:27:57.634Z"
   },
   {
    "duration": 6,
    "start_time": "2022-09-27T12:28:52.177Z"
   },
   {
    "duration": 6,
    "start_time": "2022-09-27T12:29:00.761Z"
   },
   {
    "duration": 6,
    "start_time": "2022-09-27T12:29:27.054Z"
   },
   {
    "duration": 6,
    "start_time": "2022-09-27T12:30:40.770Z"
   },
   {
    "duration": 5,
    "start_time": "2022-09-27T12:30:47.214Z"
   },
   {
    "duration": 6,
    "start_time": "2022-09-27T12:30:57.270Z"
   },
   {
    "duration": 6,
    "start_time": "2022-09-27T12:32:47.339Z"
   },
   {
    "duration": 6,
    "start_time": "2022-09-27T12:32:56.716Z"
   },
   {
    "duration": 6,
    "start_time": "2022-09-27T12:33:09.821Z"
   },
   {
    "duration": 7,
    "start_time": "2022-09-27T12:34:28.118Z"
   },
   {
    "duration": 101,
    "start_time": "2022-09-27T12:47:25.875Z"
   },
   {
    "duration": 111,
    "start_time": "2022-09-27T12:47:52.730Z"
   },
   {
    "duration": 51,
    "start_time": "2022-09-27T12:48:14.962Z"
   },
   {
    "duration": 73,
    "start_time": "2022-09-27T12:48:18.669Z"
   },
   {
    "duration": 15,
    "start_time": "2022-09-27T12:48:18.744Z"
   },
   {
    "duration": 21,
    "start_time": "2022-09-27T12:48:18.761Z"
   },
   {
    "duration": 32,
    "start_time": "2022-09-27T12:48:18.785Z"
   },
   {
    "duration": 37,
    "start_time": "2022-09-27T12:48:18.820Z"
   },
   {
    "duration": 3,
    "start_time": "2022-09-27T12:48:18.859Z"
   },
   {
    "duration": 15,
    "start_time": "2022-09-27T12:48:18.864Z"
   },
   {
    "duration": 28,
    "start_time": "2022-09-27T12:48:18.881Z"
   },
   {
    "duration": 7,
    "start_time": "2022-09-27T12:48:18.912Z"
   },
   {
    "duration": 5,
    "start_time": "2022-09-27T12:48:18.922Z"
   },
   {
    "duration": 34,
    "start_time": "2022-09-27T12:48:18.929Z"
   },
   {
    "duration": 9,
    "start_time": "2022-09-27T12:48:18.965Z"
   },
   {
    "duration": 4,
    "start_time": "2022-09-27T12:48:19.009Z"
   },
   {
    "duration": 20,
    "start_time": "2022-09-27T12:48:19.015Z"
   },
   {
    "duration": 26,
    "start_time": "2022-09-27T12:48:19.037Z"
   },
   {
    "duration": 50,
    "start_time": "2022-09-27T12:48:19.065Z"
   },
   {
    "duration": 5,
    "start_time": "2022-09-27T12:48:19.117Z"
   },
   {
    "duration": 22,
    "start_time": "2022-09-27T12:48:19.123Z"
   },
   {
    "duration": 7,
    "start_time": "2022-09-27T12:48:19.147Z"
   },
   {
    "duration": 5,
    "start_time": "2022-09-27T12:48:19.156Z"
   },
   {
    "duration": 16,
    "start_time": "2022-09-27T12:48:19.162Z"
   },
   {
    "duration": 101,
    "start_time": "2022-09-27T12:48:19.180Z"
   },
   {
    "duration": 83,
    "start_time": "2022-09-27T12:48:23.907Z"
   },
   {
    "duration": 21,
    "start_time": "2022-09-27T12:48:30.483Z"
   },
   {
    "duration": 19,
    "start_time": "2022-09-27T12:48:34.049Z"
   },
   {
    "duration": 31,
    "start_time": "2022-09-27T12:48:38.770Z"
   },
   {
    "duration": 100,
    "start_time": "2022-09-27T12:50:22.058Z"
   },
   {
    "duration": 115,
    "start_time": "2022-09-27T12:50:27.809Z"
   },
   {
    "duration": 8,
    "start_time": "2022-09-27T12:50:48.248Z"
   },
   {
    "duration": 18,
    "start_time": "2022-09-27T12:51:14.743Z"
   },
   {
    "duration": 31,
    "start_time": "2022-09-27T12:51:26.024Z"
   },
   {
    "duration": 42,
    "start_time": "2022-09-27T12:51:42.118Z"
   },
   {
    "duration": 15,
    "start_time": "2022-09-27T12:52:22.398Z"
   },
   {
    "duration": 26,
    "start_time": "2022-09-27T12:54:52.740Z"
   },
   {
    "duration": 19,
    "start_time": "2022-09-27T12:54:59.379Z"
   },
   {
    "duration": 148,
    "start_time": "2022-09-27T16:33:50.830Z"
   },
   {
    "duration": 590,
    "start_time": "2022-09-27T16:33:56.779Z"
   },
   {
    "duration": 34,
    "start_time": "2022-09-27T16:33:57.371Z"
   },
   {
    "duration": 21,
    "start_time": "2022-09-27T16:33:57.407Z"
   },
   {
    "duration": 18,
    "start_time": "2022-09-27T16:33:57.431Z"
   },
   {
    "duration": 92,
    "start_time": "2022-09-27T16:33:57.451Z"
   },
   {
    "duration": 4,
    "start_time": "2022-09-27T16:33:57.545Z"
   },
   {
    "duration": 15,
    "start_time": "2022-09-27T16:33:57.550Z"
   },
   {
    "duration": 6,
    "start_time": "2022-09-27T16:33:57.567Z"
   },
   {
    "duration": 10,
    "start_time": "2022-09-27T16:33:57.574Z"
   },
   {
    "duration": 36,
    "start_time": "2022-09-27T16:33:57.587Z"
   },
   {
    "duration": 40,
    "start_time": "2022-09-27T16:33:57.625Z"
   },
   {
    "duration": 15,
    "start_time": "2022-09-27T16:33:57.668Z"
   },
   {
    "duration": 8,
    "start_time": "2022-09-27T16:33:57.685Z"
   },
   {
    "duration": 39,
    "start_time": "2022-09-27T16:33:57.695Z"
   },
   {
    "duration": 54,
    "start_time": "2022-09-27T16:33:57.736Z"
   },
   {
    "duration": 17,
    "start_time": "2022-09-27T16:33:57.792Z"
   },
   {
    "duration": 12,
    "start_time": "2022-09-27T16:33:57.812Z"
   },
   {
    "duration": 24,
    "start_time": "2022-09-27T16:33:57.826Z"
   },
   {
    "duration": 13,
    "start_time": "2022-09-27T16:33:57.852Z"
   },
   {
    "duration": 16,
    "start_time": "2022-09-27T16:33:57.867Z"
   },
   {
    "duration": 17,
    "start_time": "2022-09-27T16:33:57.885Z"
   },
   {
    "duration": 77,
    "start_time": "2022-09-27T16:33:57.904Z"
   },
   {
    "duration": 92,
    "start_time": "2022-09-27T16:34:00.070Z"
   },
   {
    "duration": 24,
    "start_time": "2022-09-27T16:36:05.877Z"
   },
   {
    "duration": 22,
    "start_time": "2022-09-27T16:36:16.679Z"
   },
   {
    "duration": 105,
    "start_time": "2022-09-27T16:36:41.366Z"
   },
   {
    "duration": 16,
    "start_time": "2022-09-27T16:37:04.905Z"
   },
   {
    "duration": 87,
    "start_time": "2022-09-27T16:37:11.553Z"
   },
   {
    "duration": 23,
    "start_time": "2022-09-27T16:37:11.643Z"
   },
   {
    "duration": 34,
    "start_time": "2022-09-27T16:37:11.668Z"
   },
   {
    "duration": 37,
    "start_time": "2022-09-27T16:37:11.708Z"
   },
   {
    "duration": 57,
    "start_time": "2022-09-27T16:37:11.748Z"
   },
   {
    "duration": 4,
    "start_time": "2022-09-27T16:37:11.808Z"
   },
   {
    "duration": 26,
    "start_time": "2022-09-27T16:37:11.814Z"
   },
   {
    "duration": 14,
    "start_time": "2022-09-27T16:37:11.842Z"
   },
   {
    "duration": 14,
    "start_time": "2022-09-27T16:37:11.858Z"
   },
   {
    "duration": 10,
    "start_time": "2022-09-27T16:37:11.876Z"
   },
   {
    "duration": 40,
    "start_time": "2022-09-27T16:37:11.888Z"
   },
   {
    "duration": 11,
    "start_time": "2022-09-27T16:37:11.929Z"
   },
   {
    "duration": 6,
    "start_time": "2022-09-27T16:37:11.942Z"
   },
   {
    "duration": 24,
    "start_time": "2022-09-27T16:37:11.950Z"
   },
   {
    "duration": 28,
    "start_time": "2022-09-27T16:37:11.977Z"
   },
   {
    "duration": 28,
    "start_time": "2022-09-27T16:37:12.007Z"
   },
   {
    "duration": 6,
    "start_time": "2022-09-27T16:37:12.037Z"
   },
   {
    "duration": 18,
    "start_time": "2022-09-27T16:37:12.044Z"
   },
   {
    "duration": 9,
    "start_time": "2022-09-27T16:37:12.064Z"
   },
   {
    "duration": 5,
    "start_time": "2022-09-27T16:37:12.075Z"
   },
   {
    "duration": 16,
    "start_time": "2022-09-27T16:37:12.082Z"
   },
   {
    "duration": 44,
    "start_time": "2022-09-27T16:37:12.100Z"
   },
   {
    "duration": 22,
    "start_time": "2022-09-27T16:37:25.381Z"
   },
   {
    "duration": 24,
    "start_time": "2022-09-27T16:41:01.007Z"
   },
   {
    "duration": 1100,
    "start_time": "2022-09-27T16:57:13.046Z"
   },
   {
    "duration": 1425,
    "start_time": "2022-09-27T16:59:02.391Z"
   },
   {
    "duration": 34,
    "start_time": "2022-09-27T16:59:46.539Z"
   },
   {
    "duration": 38,
    "start_time": "2022-09-27T17:02:49.075Z"
   },
   {
    "duration": 1321,
    "start_time": "2022-09-27T17:04:27.389Z"
   },
   {
    "duration": 19,
    "start_time": "2022-09-27T17:05:44.366Z"
   },
   {
    "duration": 12,
    "start_time": "2022-09-27T17:07:19.401Z"
   },
   {
    "duration": 1326,
    "start_time": "2022-09-27T17:08:24.758Z"
   },
   {
    "duration": 31,
    "start_time": "2022-09-27T17:08:33.666Z"
   },
   {
    "duration": 29,
    "start_time": "2022-09-27T17:08:48.076Z"
   },
   {
    "duration": 903,
    "start_time": "2022-09-27T17:10:00.286Z"
   },
   {
    "duration": 898,
    "start_time": "2022-09-27T17:10:28.047Z"
   },
   {
    "duration": 26,
    "start_time": "2022-09-27T17:10:42.417Z"
   },
   {
    "duration": 1031,
    "start_time": "2022-09-27T17:12:07.027Z"
   },
   {
    "duration": 25,
    "start_time": "2022-09-27T17:13:05.708Z"
   },
   {
    "duration": 873,
    "start_time": "2022-09-27T17:14:56.088Z"
   },
   {
    "duration": 892,
    "start_time": "2022-09-27T17:15:24.270Z"
   },
   {
    "duration": 955,
    "start_time": "2022-09-27T17:15:41.919Z"
   },
   {
    "duration": 19,
    "start_time": "2022-09-27T17:15:49.212Z"
   },
   {
    "duration": 26,
    "start_time": "2022-09-27T17:16:01.265Z"
   },
   {
    "duration": 27,
    "start_time": "2022-09-27T17:16:46.610Z"
   },
   {
    "duration": 1102,
    "start_time": "2022-09-27T17:17:35.918Z"
   },
   {
    "duration": 913,
    "start_time": "2022-09-27T17:17:52.673Z"
   },
   {
    "duration": 974,
    "start_time": "2022-09-27T17:18:09.944Z"
   },
   {
    "duration": 692,
    "start_time": "2022-09-28T05:53:55.518Z"
   },
   {
    "duration": 21,
    "start_time": "2022-09-28T05:53:56.212Z"
   },
   {
    "duration": 17,
    "start_time": "2022-09-28T05:53:56.235Z"
   },
   {
    "duration": 11,
    "start_time": "2022-09-28T05:53:56.253Z"
   },
   {
    "duration": 78,
    "start_time": "2022-09-28T05:53:56.266Z"
   },
   {
    "duration": 5,
    "start_time": "2022-09-28T05:53:56.345Z"
   },
   {
    "duration": 14,
    "start_time": "2022-09-28T05:53:56.352Z"
   },
   {
    "duration": 5,
    "start_time": "2022-09-28T05:53:56.368Z"
   },
   {
    "duration": 8,
    "start_time": "2022-09-28T05:53:56.375Z"
   },
   {
    "duration": 6,
    "start_time": "2022-09-28T05:53:56.408Z"
   },
   {
    "duration": 43,
    "start_time": "2022-09-28T05:53:56.416Z"
   },
   {
    "duration": 10,
    "start_time": "2022-09-28T05:53:56.460Z"
   },
   {
    "duration": 10,
    "start_time": "2022-09-28T05:53:56.472Z"
   },
   {
    "duration": 37,
    "start_time": "2022-09-28T05:53:56.483Z"
   },
   {
    "duration": 21,
    "start_time": "2022-09-28T05:53:56.522Z"
   },
   {
    "duration": 20,
    "start_time": "2022-09-28T05:53:56.544Z"
   },
   {
    "duration": 3,
    "start_time": "2022-09-28T05:53:56.566Z"
   },
   {
    "duration": 16,
    "start_time": "2022-09-28T05:53:56.570Z"
   },
   {
    "duration": 24,
    "start_time": "2022-09-28T05:53:56.588Z"
   },
   {
    "duration": 5,
    "start_time": "2022-09-28T05:53:56.614Z"
   },
   {
    "duration": 17,
    "start_time": "2022-09-28T05:53:56.621Z"
   },
   {
    "duration": 23,
    "start_time": "2022-09-28T05:54:04.624Z"
   },
   {
    "duration": 642,
    "start_time": "2022-09-28T05:54:38.321Z"
   },
   {
    "duration": 18,
    "start_time": "2022-09-28T05:56:13.304Z"
   },
   {
    "duration": 12,
    "start_time": "2022-09-28T05:57:14.375Z"
   },
   {
    "duration": 26,
    "start_time": "2022-09-28T05:57:34.614Z"
   },
   {
    "duration": 12,
    "start_time": "2022-09-28T05:57:48.997Z"
   },
   {
    "duration": 24,
    "start_time": "2022-09-28T05:59:16.347Z"
   },
   {
    "duration": 31,
    "start_time": "2022-09-28T06:00:24.308Z"
   },
   {
    "duration": 287,
    "start_time": "2022-09-28T06:01:12.121Z"
   },
   {
    "duration": 23,
    "start_time": "2022-09-28T06:02:08.203Z"
   },
   {
    "duration": 50,
    "start_time": "2022-09-28T06:07:55.609Z"
   },
   {
    "duration": 67,
    "start_time": "2022-09-28T06:08:04.761Z"
   },
   {
    "duration": 22,
    "start_time": "2022-09-28T06:08:28.584Z"
   },
   {
    "duration": 50,
    "start_time": "2022-09-28T06:09:43.175Z"
   },
   {
    "duration": 24,
    "start_time": "2022-09-28T06:10:06.606Z"
   },
   {
    "duration": 30,
    "start_time": "2022-09-28T06:10:34.520Z"
   },
   {
    "duration": 20,
    "start_time": "2022-09-28T06:11:15.565Z"
   },
   {
    "duration": 28,
    "start_time": "2022-09-28T06:11:20.917Z"
   },
   {
    "duration": 24,
    "start_time": "2022-09-28T06:13:14.707Z"
   },
   {
    "duration": 47,
    "start_time": "2022-09-28T06:13:42.990Z"
   },
   {
    "duration": 25,
    "start_time": "2022-09-28T06:16:25.329Z"
   },
   {
    "duration": 24,
    "start_time": "2022-09-28T06:16:52.066Z"
   },
   {
    "duration": 25,
    "start_time": "2022-09-28T06:17:21.610Z"
   },
   {
    "duration": 31,
    "start_time": "2022-09-28T06:17:28.874Z"
   },
   {
    "duration": 24,
    "start_time": "2022-09-28T06:17:35.898Z"
   },
   {
    "duration": 44,
    "start_time": "2022-09-28T06:17:41.922Z"
   },
   {
    "duration": 23,
    "start_time": "2022-09-28T06:26:07.205Z"
   },
   {
    "duration": 13,
    "start_time": "2022-09-28T06:36:52.810Z"
   },
   {
    "duration": 24,
    "start_time": "2022-09-28T06:37:00.529Z"
   },
   {
    "duration": 24,
    "start_time": "2022-09-28T06:37:45.818Z"
   },
   {
    "duration": 24,
    "start_time": "2022-09-28T06:38:10.656Z"
   },
   {
    "duration": 22,
    "start_time": "2022-09-28T06:38:35.695Z"
   },
   {
    "duration": 12,
    "start_time": "2022-09-28T06:39:48.510Z"
   },
   {
    "duration": 37,
    "start_time": "2022-09-28T06:40:25.709Z"
   },
   {
    "duration": 9,
    "start_time": "2022-09-28T06:40:48.676Z"
   },
   {
    "duration": 17,
    "start_time": "2022-09-28T06:40:55.785Z"
   },
   {
    "duration": 9,
    "start_time": "2022-09-28T06:41:10.955Z"
   },
   {
    "duration": 24,
    "start_time": "2022-09-28T06:41:19.628Z"
   },
   {
    "duration": 23,
    "start_time": "2022-09-28T06:41:42.388Z"
   },
   {
    "duration": 23,
    "start_time": "2022-09-28T06:42:02.747Z"
   },
   {
    "duration": 22,
    "start_time": "2022-09-28T06:42:47.123Z"
   },
   {
    "duration": 10,
    "start_time": "2022-09-28T06:43:10.426Z"
   },
   {
    "duration": 58,
    "start_time": "2022-09-28T06:57:11.610Z"
   },
   {
    "duration": 83,
    "start_time": "2022-09-28T06:58:18.233Z"
   },
   {
    "duration": 89,
    "start_time": "2022-09-28T06:59:10.840Z"
   },
   {
    "duration": 13,
    "start_time": "2022-09-28T06:59:15.736Z"
   },
   {
    "duration": 18,
    "start_time": "2022-09-28T06:59:59.119Z"
   },
   {
    "duration": 24,
    "start_time": "2022-09-28T07:00:06.967Z"
   },
   {
    "duration": 23,
    "start_time": "2022-09-28T07:00:52.373Z"
   },
   {
    "duration": 23,
    "start_time": "2022-09-28T07:01:07.509Z"
   },
   {
    "duration": 26,
    "start_time": "2022-09-28T07:02:04.794Z"
   },
   {
    "duration": 22,
    "start_time": "2022-09-28T07:03:54.218Z"
   },
   {
    "duration": 23,
    "start_time": "2022-09-28T07:04:11.698Z"
   },
   {
    "duration": 24,
    "start_time": "2022-09-28T07:04:31.554Z"
   },
   {
    "duration": 22,
    "start_time": "2022-09-28T07:04:45.851Z"
   },
   {
    "duration": 25,
    "start_time": "2022-09-28T07:05:39.299Z"
   },
   {
    "duration": 23,
    "start_time": "2022-09-28T07:05:50.499Z"
   },
   {
    "duration": 22,
    "start_time": "2022-09-28T07:06:05.241Z"
   },
   {
    "duration": 28,
    "start_time": "2022-09-28T07:06:26.501Z"
   },
   {
    "duration": 25,
    "start_time": "2022-09-28T07:06:41.920Z"
   },
   {
    "duration": 23,
    "start_time": "2022-09-28T07:06:59.704Z"
   },
   {
    "duration": 18,
    "start_time": "2022-09-28T07:07:05.093Z"
   },
   {
    "duration": 22,
    "start_time": "2022-09-28T07:07:10.083Z"
   },
   {
    "duration": 28,
    "start_time": "2022-09-28T07:07:53.719Z"
   },
   {
    "duration": 23,
    "start_time": "2022-09-28T07:09:35.669Z"
   },
   {
    "duration": 23,
    "start_time": "2022-09-28T07:10:12.941Z"
   },
   {
    "duration": 25,
    "start_time": "2022-09-28T07:10:47.875Z"
   },
   {
    "duration": 27,
    "start_time": "2022-09-28T07:11:00.123Z"
   },
   {
    "duration": 25,
    "start_time": "2022-09-28T07:24:59.452Z"
   },
   {
    "duration": 27,
    "start_time": "2022-09-28T07:25:50.427Z"
   },
   {
    "duration": 26,
    "start_time": "2022-09-28T07:26:07.843Z"
   },
   {
    "duration": 25,
    "start_time": "2022-09-28T07:50:17.525Z"
   },
   {
    "duration": 26,
    "start_time": "2022-09-28T07:50:37.472Z"
   },
   {
    "duration": 24,
    "start_time": "2022-09-28T07:53:06.332Z"
   },
   {
    "duration": 27,
    "start_time": "2022-09-28T07:53:43.051Z"
   },
   {
    "duration": 24,
    "start_time": "2022-09-28T07:54:03.324Z"
   },
   {
    "duration": 24,
    "start_time": "2022-09-28T07:54:24.898Z"
   },
   {
    "duration": 31,
    "start_time": "2022-09-28T07:54:42.777Z"
   },
   {
    "duration": 24,
    "start_time": "2022-09-28T07:58:15.516Z"
   },
   {
    "duration": 521,
    "start_time": "2022-09-28T09:04:21.667Z"
   },
   {
    "duration": 24,
    "start_time": "2022-09-28T09:04:22.191Z"
   },
   {
    "duration": 16,
    "start_time": "2022-09-28T09:04:22.217Z"
   },
   {
    "duration": 10,
    "start_time": "2022-09-28T09:04:22.235Z"
   },
   {
    "duration": 75,
    "start_time": "2022-09-28T09:04:22.247Z"
   },
   {
    "duration": 4,
    "start_time": "2022-09-28T09:04:22.324Z"
   },
   {
    "duration": 18,
    "start_time": "2022-09-28T09:04:22.330Z"
   },
   {
    "duration": 11,
    "start_time": "2022-09-28T09:04:22.350Z"
   },
   {
    "duration": 16,
    "start_time": "2022-09-28T09:04:22.363Z"
   },
   {
    "duration": 13,
    "start_time": "2022-09-28T09:04:22.383Z"
   },
   {
    "duration": 50,
    "start_time": "2022-09-28T09:04:22.397Z"
   },
   {
    "duration": 9,
    "start_time": "2022-09-28T09:04:22.449Z"
   },
   {
    "duration": 11,
    "start_time": "2022-09-28T09:04:22.460Z"
   },
   {
    "duration": 27,
    "start_time": "2022-09-28T09:04:22.473Z"
   },
   {
    "duration": 32,
    "start_time": "2022-09-28T09:04:22.502Z"
   },
   {
    "duration": 18,
    "start_time": "2022-09-28T09:04:22.536Z"
   },
   {
    "duration": 4,
    "start_time": "2022-09-28T09:04:22.556Z"
   },
   {
    "duration": 26,
    "start_time": "2022-09-28T09:04:22.561Z"
   },
   {
    "duration": 17,
    "start_time": "2022-09-28T09:04:22.588Z"
   },
   {
    "duration": 5,
    "start_time": "2022-09-28T09:04:22.607Z"
   },
   {
    "duration": 32,
    "start_time": "2022-09-28T09:04:22.613Z"
   },
   {
    "duration": 42,
    "start_time": "2022-09-28T09:04:22.647Z"
   },
   {
    "duration": 28,
    "start_time": "2022-09-28T09:04:22.691Z"
   },
   {
    "duration": 30,
    "start_time": "2022-09-28T09:04:22.720Z"
   },
   {
    "duration": 52,
    "start_time": "2022-09-28T09:04:22.752Z"
   },
   {
    "duration": 486,
    "start_time": "2022-09-28T10:53:14.363Z"
   },
   {
    "duration": 22,
    "start_time": "2022-09-28T10:53:14.851Z"
   },
   {
    "duration": 14,
    "start_time": "2022-09-28T10:53:14.875Z"
   },
   {
    "duration": 9,
    "start_time": "2022-09-28T10:53:14.890Z"
   },
   {
    "duration": 48,
    "start_time": "2022-09-28T10:53:14.901Z"
   },
   {
    "duration": 3,
    "start_time": "2022-09-28T10:53:14.951Z"
   },
   {
    "duration": 12,
    "start_time": "2022-09-28T10:53:14.955Z"
   },
   {
    "duration": 3,
    "start_time": "2022-09-28T10:53:14.969Z"
   },
   {
    "duration": 8,
    "start_time": "2022-09-28T10:53:14.974Z"
   },
   {
    "duration": 3,
    "start_time": "2022-09-28T10:53:14.984Z"
   },
   {
    "duration": 53,
    "start_time": "2022-09-28T10:53:14.988Z"
   },
   {
    "duration": 9,
    "start_time": "2022-09-28T10:53:15.043Z"
   },
   {
    "duration": 14,
    "start_time": "2022-09-28T10:53:15.053Z"
   },
   {
    "duration": 18,
    "start_time": "2022-09-28T10:53:15.069Z"
   },
   {
    "duration": 31,
    "start_time": "2022-09-28T10:53:15.088Z"
   },
   {
    "duration": 24,
    "start_time": "2022-09-28T10:53:15.120Z"
   },
   {
    "duration": 4,
    "start_time": "2022-09-28T10:53:15.145Z"
   },
   {
    "duration": 12,
    "start_time": "2022-09-28T10:53:15.150Z"
   },
   {
    "duration": 8,
    "start_time": "2022-09-28T10:53:15.163Z"
   },
   {
    "duration": 3,
    "start_time": "2022-09-28T10:53:15.173Z"
   },
   {
    "duration": 14,
    "start_time": "2022-09-28T10:53:15.177Z"
   },
   {
    "duration": 46,
    "start_time": "2022-09-28T10:53:15.192Z"
   },
   {
    "duration": 25,
    "start_time": "2022-09-28T10:53:15.240Z"
   },
   {
    "duration": 24,
    "start_time": "2022-09-28T10:53:15.267Z"
   },
   {
    "duration": 48,
    "start_time": "2022-09-28T10:53:15.292Z"
   },
   {
    "duration": 459,
    "start_time": "2022-09-28T13:21:58.194Z"
   },
   {
    "duration": 22,
    "start_time": "2022-09-28T13:21:58.655Z"
   },
   {
    "duration": 13,
    "start_time": "2022-09-28T13:21:58.678Z"
   },
   {
    "duration": 8,
    "start_time": "2022-09-28T13:21:58.693Z"
   },
   {
    "duration": 46,
    "start_time": "2022-09-28T13:21:58.703Z"
   },
   {
    "duration": 3,
    "start_time": "2022-09-28T13:21:58.751Z"
   },
   {
    "duration": 9,
    "start_time": "2022-09-28T13:21:58.756Z"
   },
   {
    "duration": 4,
    "start_time": "2022-09-28T13:21:58.766Z"
   },
   {
    "duration": 9,
    "start_time": "2022-09-28T13:21:58.772Z"
   },
   {
    "duration": 4,
    "start_time": "2022-09-28T13:21:58.783Z"
   },
   {
    "duration": 53,
    "start_time": "2022-09-28T13:21:58.788Z"
   },
   {
    "duration": 9,
    "start_time": "2022-09-28T13:21:58.843Z"
   },
   {
    "duration": 5,
    "start_time": "2022-09-28T13:21:58.854Z"
   },
   {
    "duration": 11,
    "start_time": "2022-09-28T13:21:58.862Z"
   },
   {
    "duration": 21,
    "start_time": "2022-09-28T13:21:58.874Z"
   },
   {
    "duration": 38,
    "start_time": "2022-09-28T13:21:58.897Z"
   },
   {
    "duration": 4,
    "start_time": "2022-09-28T13:21:58.936Z"
   },
   {
    "duration": 14,
    "start_time": "2022-09-28T13:21:58.942Z"
   },
   {
    "duration": 6,
    "start_time": "2022-09-28T13:21:58.957Z"
   },
   {
    "duration": 3,
    "start_time": "2022-09-28T13:21:58.965Z"
   },
   {
    "duration": 12,
    "start_time": "2022-09-28T13:21:58.970Z"
   },
   {
    "duration": 54,
    "start_time": "2022-09-28T13:21:58.984Z"
   },
   {
    "duration": 26,
    "start_time": "2022-09-28T13:21:59.040Z"
   },
   {
    "duration": 26,
    "start_time": "2022-09-28T13:21:59.069Z"
   },
   {
    "duration": 50,
    "start_time": "2022-09-28T13:21:59.097Z"
   },
   {
    "duration": 83,
    "start_time": "2022-09-28T13:21:59.149Z"
   }
  ],
  "colab": {
   "name": "dpp_template_part2.ipynb",
   "provenance": []
  },
  "kernelspec": {
   "display_name": "Python 3 (ipykernel)",
   "language": "python",
   "name": "python3"
  },
  "language_info": {
   "codemirror_mode": {
    "name": "ipython",
    "version": 3
   },
   "file_extension": ".py",
   "mimetype": "text/x-python",
   "name": "python",
   "nbconvert_exporter": "python",
   "pygments_lexer": "ipython3",
   "version": "3.9.5"
  },
  "toc": {
   "base_numbering": 1,
   "nav_menu": {},
   "number_sections": true,
   "sideBar": true,
   "skip_h1_title": true,
   "title_cell": "Table of Contents",
   "title_sidebar": "Contents",
   "toc_cell": false,
   "toc_position": {},
   "toc_section_display": true,
   "toc_window_display": false
  }
 },
 "nbformat": 4,
 "nbformat_minor": 5
}
